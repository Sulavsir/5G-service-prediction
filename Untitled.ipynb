{
 "cells": [
  {
   "cell_type": "code",
   "execution_count": 1,
   "id": "c06e009a-d7a0-41b3-8bc0-98693bb0d54f",
   "metadata": {},
   "outputs": [],
   "source": [
    "import pandas as pd \n",
    "import numpy as np \n",
    "import matplotlib.pyplot as plt \n",
    "import seaborn as sns \n",
    "from sklearn.preprocessing import StandardScaler"
   ]
  },
  {
   "cell_type": "code",
   "execution_count": 2,
   "id": "e0e51c46-7561-4e76-8173-f503a622c83c",
   "metadata": {},
   "outputs": [],
   "source": [
    "df = pd.read_csv(\"Quality of Service 5G.csv\")"
   ]
  },
  {
   "cell_type": "code",
   "execution_count": 3,
   "id": "1cb66587-b892-4f8f-88df-1b489314172d",
   "metadata": {},
   "outputs": [
    {
     "name": "stdout",
     "output_type": "stream",
     "text": [
      "<class 'pandas.core.frame.DataFrame'>\n",
      "RangeIndex: 400 entries, 0 to 399\n",
      "Data columns (total 8 columns):\n",
      " #   Column               Non-Null Count  Dtype \n",
      "---  ------               --------------  ----- \n",
      " 0   Timestamp            400 non-null    object\n",
      " 1   User_ID              400 non-null    object\n",
      " 2   Application_Type     400 non-null    object\n",
      " 3   Signal_Strength      400 non-null    object\n",
      " 4   Latency              400 non-null    object\n",
      " 5   Required_Bandwidth   400 non-null    object\n",
      " 6   Allocated_Bandwidth  400 non-null    object\n",
      " 7   Resource_Allocation  400 non-null    object\n",
      "dtypes: object(8)\n",
      "memory usage: 25.1+ KB\n"
     ]
    }
   ],
   "source": [
    "df.info()"
   ]
  },
  {
   "cell_type": "code",
   "execution_count": 4,
   "id": "a2135427-c7cf-4664-a473-44d109986caf",
   "metadata": {},
   "outputs": [
    {
     "data": {
      "text/html": [
       "<div>\n",
       "<style scoped>\n",
       "    .dataframe tbody tr th:only-of-type {\n",
       "        vertical-align: middle;\n",
       "    }\n",
       "\n",
       "    .dataframe tbody tr th {\n",
       "        vertical-align: top;\n",
       "    }\n",
       "\n",
       "    .dataframe thead th {\n",
       "        text-align: right;\n",
       "    }\n",
       "</style>\n",
       "<table border=\"1\" class=\"dataframe\">\n",
       "  <thead>\n",
       "    <tr style=\"text-align: right;\">\n",
       "      <th></th>\n",
       "      <th>Timestamp</th>\n",
       "      <th>User_ID</th>\n",
       "      <th>Application_Type</th>\n",
       "      <th>Signal_Strength</th>\n",
       "      <th>Latency</th>\n",
       "      <th>Required_Bandwidth</th>\n",
       "      <th>Allocated_Bandwidth</th>\n",
       "      <th>Resource_Allocation</th>\n",
       "    </tr>\n",
       "  </thead>\n",
       "  <tbody>\n",
       "    <tr>\n",
       "      <th>0</th>\n",
       "      <td>9/3/2023 10:00</td>\n",
       "      <td>User_1</td>\n",
       "      <td>Video_Call</td>\n",
       "      <td>-75 dBm</td>\n",
       "      <td>30 ms</td>\n",
       "      <td>10 Mbps</td>\n",
       "      <td>15 Mbps</td>\n",
       "      <td>70%</td>\n",
       "    </tr>\n",
       "    <tr>\n",
       "      <th>1</th>\n",
       "      <td>9/3/2023 10:00</td>\n",
       "      <td>User_2</td>\n",
       "      <td>Voice_Call</td>\n",
       "      <td>-80 dBm</td>\n",
       "      <td>20 ms</td>\n",
       "      <td>100 Kbps</td>\n",
       "      <td>120 Kbps</td>\n",
       "      <td>80%</td>\n",
       "    </tr>\n",
       "    <tr>\n",
       "      <th>2</th>\n",
       "      <td>9/3/2023 10:00</td>\n",
       "      <td>User_3</td>\n",
       "      <td>Streaming</td>\n",
       "      <td>-85 dBm</td>\n",
       "      <td>40 ms</td>\n",
       "      <td>5 Mbps</td>\n",
       "      <td>6 Mbps</td>\n",
       "      <td>75%</td>\n",
       "    </tr>\n",
       "    <tr>\n",
       "      <th>3</th>\n",
       "      <td>9/3/2023 10:00</td>\n",
       "      <td>User_4</td>\n",
       "      <td>Emergency_Service</td>\n",
       "      <td>-70 dBm</td>\n",
       "      <td>10 ms</td>\n",
       "      <td>1 Mbps</td>\n",
       "      <td>1.5 Mbps</td>\n",
       "      <td>90%</td>\n",
       "    </tr>\n",
       "    <tr>\n",
       "      <th>4</th>\n",
       "      <td>9/3/2023 10:00</td>\n",
       "      <td>User_5</td>\n",
       "      <td>Online_Gaming</td>\n",
       "      <td>-78 dBm</td>\n",
       "      <td>25 ms</td>\n",
       "      <td>2 Mbps</td>\n",
       "      <td>3 Mbps</td>\n",
       "      <td>85%</td>\n",
       "    </tr>\n",
       "  </tbody>\n",
       "</table>\n",
       "</div>"
      ],
      "text/plain": [
       "        Timestamp User_ID   Application_Type Signal_Strength Latency  \\\n",
       "0  9/3/2023 10:00  User_1         Video_Call         -75 dBm   30 ms   \n",
       "1  9/3/2023 10:00  User_2         Voice_Call         -80 dBm   20 ms   \n",
       "2  9/3/2023 10:00  User_3          Streaming         -85 dBm   40 ms   \n",
       "3  9/3/2023 10:00  User_4  Emergency_Service         -70 dBm   10 ms   \n",
       "4  9/3/2023 10:00  User_5      Online_Gaming         -78 dBm   25 ms   \n",
       "\n",
       "  Required_Bandwidth Allocated_Bandwidth Resource_Allocation  \n",
       "0            10 Mbps             15 Mbps                 70%  \n",
       "1           100 Kbps            120 Kbps                 80%  \n",
       "2             5 Mbps              6 Mbps                 75%  \n",
       "3             1 Mbps            1.5 Mbps                 90%  \n",
       "4             2 Mbps              3 Mbps                 85%  "
      ]
     },
     "execution_count": 4,
     "metadata": {},
     "output_type": "execute_result"
    }
   ],
   "source": [
    "df.head()"
   ]
  },
  {
   "cell_type": "code",
   "execution_count": 5,
   "id": "1dcfdc9d-bdaa-4455-9f47-acfab7903330",
   "metadata": {},
   "outputs": [
    {
     "data": {
      "text/html": [
       "<div>\n",
       "<style scoped>\n",
       "    .dataframe tbody tr th:only-of-type {\n",
       "        vertical-align: middle;\n",
       "    }\n",
       "\n",
       "    .dataframe tbody tr th {\n",
       "        vertical-align: top;\n",
       "    }\n",
       "\n",
       "    .dataframe thead th {\n",
       "        text-align: right;\n",
       "    }\n",
       "</style>\n",
       "<table border=\"1\" class=\"dataframe\">\n",
       "  <thead>\n",
       "    <tr style=\"text-align: right;\">\n",
       "      <th></th>\n",
       "      <th>Timestamp</th>\n",
       "      <th>User_ID</th>\n",
       "      <th>Application_Type</th>\n",
       "      <th>Signal_Strength</th>\n",
       "      <th>Latency</th>\n",
       "      <th>Required_Bandwidth</th>\n",
       "      <th>Allocated_Bandwidth</th>\n",
       "      <th>Resource_Allocation</th>\n",
       "    </tr>\n",
       "  </thead>\n",
       "  <tbody>\n",
       "    <tr>\n",
       "      <th>count</th>\n",
       "      <td>400</td>\n",
       "      <td>400</td>\n",
       "      <td>400</td>\n",
       "      <td>400</td>\n",
       "      <td>400</td>\n",
       "      <td>400</td>\n",
       "      <td>400</td>\n",
       "      <td>400</td>\n",
       "    </tr>\n",
       "    <tr>\n",
       "      <th>unique</th>\n",
       "      <td>7</td>\n",
       "      <td>400</td>\n",
       "      <td>11</td>\n",
       "      <td>84</td>\n",
       "      <td>87</td>\n",
       "      <td>188</td>\n",
       "      <td>194</td>\n",
       "      <td>9</td>\n",
       "    </tr>\n",
       "    <tr>\n",
       "      <th>top</th>\n",
       "      <td>9/3/2023 10:01</td>\n",
       "      <td>User_1</td>\n",
       "      <td>Video_Call</td>\n",
       "      <td>-97 dBm</td>\n",
       "      <td>5 ms</td>\n",
       "      <td>0.1 Mbps</td>\n",
       "      <td>0.1 Mbps</td>\n",
       "      <td>70%</td>\n",
       "    </tr>\n",
       "    <tr>\n",
       "      <th>freq</th>\n",
       "      <td>60</td>\n",
       "      <td>1</td>\n",
       "      <td>58</td>\n",
       "      <td>9</td>\n",
       "      <td>35</td>\n",
       "      <td>16</td>\n",
       "      <td>16</td>\n",
       "      <td>148</td>\n",
       "    </tr>\n",
       "  </tbody>\n",
       "</table>\n",
       "</div>"
      ],
      "text/plain": [
       "             Timestamp User_ID Application_Type Signal_Strength Latency  \\\n",
       "count              400     400              400             400     400   \n",
       "unique               7     400               11              84      87   \n",
       "top     9/3/2023 10:01  User_1       Video_Call         -97 dBm    5 ms   \n",
       "freq                60       1               58               9      35   \n",
       "\n",
       "       Required_Bandwidth Allocated_Bandwidth Resource_Allocation  \n",
       "count                 400                 400                 400  \n",
       "unique                188                 194                   9  \n",
       "top              0.1 Mbps            0.1 Mbps                 70%  \n",
       "freq                   16                  16                 148  "
      ]
     },
     "execution_count": 5,
     "metadata": {},
     "output_type": "execute_result"
    }
   ],
   "source": [
    "df.describe()"
   ]
  },
  {
   "cell_type": "code",
   "execution_count": 6,
   "id": "3ebb007f-b882-4a50-9c71-aef406c4efb4",
   "metadata": {},
   "outputs": [
    {
     "data": {
      "text/plain": [
       "(400, 8)"
      ]
     },
     "execution_count": 6,
     "metadata": {},
     "output_type": "execute_result"
    }
   ],
   "source": [
    "df.shape"
   ]
  },
  {
   "cell_type": "code",
   "execution_count": 7,
   "id": "c362a31d-46ca-4848-9d63-d63d58c7d7b7",
   "metadata": {},
   "outputs": [],
   "source": [
    "#EXPLORATORY DATA ANALYSIS\n"
   ]
  },
  {
   "cell_type": "code",
   "execution_count": 8,
   "id": "0f636d32-07c4-4e6c-a2d7-dcdc20f7c5e2",
   "metadata": {},
   "outputs": [],
   "source": [
    "df['Signal_Strength'] = df['Signal_Strength'].str.replace('dBm', '')"
   ]
  },
  {
   "cell_type": "code",
   "execution_count": 9,
   "id": "b0bcec30-7027-41f6-ad4f-ecdc01c031f8",
   "metadata": {},
   "outputs": [],
   "source": [
    "df['Minute']=pd.to_datetime(df[\"Timestamp\"]).dt.minute"
   ]
  },
  {
   "cell_type": "code",
   "execution_count": 10,
   "id": "48e56e30-3f0a-4def-b62a-2929ae24a720",
   "metadata": {},
   "outputs": [],
   "source": [
    "df['Latency'] = df['Latency'].str.replace('ms', '')"
   ]
  },
  {
   "cell_type": "code",
   "execution_count": 11,
   "id": "b77cccf4-272f-472a-8cad-859705e725cd",
   "metadata": {},
   "outputs": [],
   "source": [
    "df['Required_Bandwidth'] = df['Required_Bandwidth'].str.replace('Mbps', '').str.replace('Kbps','')\n",
    "df['Allocated_Bandwidth'] = df['Allocated_Bandwidth'].str.replace('Mbps', '').str.replace('Kbps','')"
   ]
  },
  {
   "cell_type": "code",
   "execution_count": 12,
   "id": "57ec0782-7055-469f-be85-8cd7bbfb5b2e",
   "metadata": {},
   "outputs": [
    {
     "data": {
      "text/html": [
       "<div>\n",
       "<style scoped>\n",
       "    .dataframe tbody tr th:only-of-type {\n",
       "        vertical-align: middle;\n",
       "    }\n",
       "\n",
       "    .dataframe tbody tr th {\n",
       "        vertical-align: top;\n",
       "    }\n",
       "\n",
       "    .dataframe thead th {\n",
       "        text-align: right;\n",
       "    }\n",
       "</style>\n",
       "<table border=\"1\" class=\"dataframe\">\n",
       "  <thead>\n",
       "    <tr style=\"text-align: right;\">\n",
       "      <th></th>\n",
       "      <th>Timestamp</th>\n",
       "      <th>User_ID</th>\n",
       "      <th>Application_Type</th>\n",
       "      <th>Signal_Strength</th>\n",
       "      <th>Latency</th>\n",
       "      <th>Required_Bandwidth</th>\n",
       "      <th>Allocated_Bandwidth</th>\n",
       "      <th>Resource_Allocation</th>\n",
       "      <th>Minute</th>\n",
       "    </tr>\n",
       "  </thead>\n",
       "  <tbody>\n",
       "    <tr>\n",
       "      <th>0</th>\n",
       "      <td>9/3/2023 10:00</td>\n",
       "      <td>User_1</td>\n",
       "      <td>Video_Call</td>\n",
       "      <td>-75</td>\n",
       "      <td>30</td>\n",
       "      <td>10</td>\n",
       "      <td>15</td>\n",
       "      <td>70%</td>\n",
       "      <td>0</td>\n",
       "    </tr>\n",
       "    <tr>\n",
       "      <th>1</th>\n",
       "      <td>9/3/2023 10:00</td>\n",
       "      <td>User_2</td>\n",
       "      <td>Voice_Call</td>\n",
       "      <td>-80</td>\n",
       "      <td>20</td>\n",
       "      <td>100</td>\n",
       "      <td>120</td>\n",
       "      <td>80%</td>\n",
       "      <td>0</td>\n",
       "    </tr>\n",
       "    <tr>\n",
       "      <th>2</th>\n",
       "      <td>9/3/2023 10:00</td>\n",
       "      <td>User_3</td>\n",
       "      <td>Streaming</td>\n",
       "      <td>-85</td>\n",
       "      <td>40</td>\n",
       "      <td>5</td>\n",
       "      <td>6</td>\n",
       "      <td>75%</td>\n",
       "      <td>0</td>\n",
       "    </tr>\n",
       "    <tr>\n",
       "      <th>3</th>\n",
       "      <td>9/3/2023 10:00</td>\n",
       "      <td>User_4</td>\n",
       "      <td>Emergency_Service</td>\n",
       "      <td>-70</td>\n",
       "      <td>10</td>\n",
       "      <td>1</td>\n",
       "      <td>1.5</td>\n",
       "      <td>90%</td>\n",
       "      <td>0</td>\n",
       "    </tr>\n",
       "    <tr>\n",
       "      <th>4</th>\n",
       "      <td>9/3/2023 10:00</td>\n",
       "      <td>User_5</td>\n",
       "      <td>Online_Gaming</td>\n",
       "      <td>-78</td>\n",
       "      <td>25</td>\n",
       "      <td>2</td>\n",
       "      <td>3</td>\n",
       "      <td>85%</td>\n",
       "      <td>0</td>\n",
       "    </tr>\n",
       "  </tbody>\n",
       "</table>\n",
       "</div>"
      ],
      "text/plain": [
       "        Timestamp User_ID   Application_Type Signal_Strength Latency  \\\n",
       "0  9/3/2023 10:00  User_1         Video_Call            -75      30    \n",
       "1  9/3/2023 10:00  User_2         Voice_Call            -80      20    \n",
       "2  9/3/2023 10:00  User_3          Streaming            -85      40    \n",
       "3  9/3/2023 10:00  User_4  Emergency_Service            -70      10    \n",
       "4  9/3/2023 10:00  User_5      Online_Gaming            -78      25    \n",
       "\n",
       "  Required_Bandwidth Allocated_Bandwidth Resource_Allocation  Minute  \n",
       "0                10                  15                  70%       0  \n",
       "1               100                 120                  80%       0  \n",
       "2                 5                   6                  75%       0  \n",
       "3                 1                 1.5                  90%       0  \n",
       "4                 2                   3                  85%       0  "
      ]
     },
     "execution_count": 12,
     "metadata": {},
     "output_type": "execute_result"
    }
   ],
   "source": [
    "df.head()"
   ]
  },
  {
   "cell_type": "code",
   "execution_count": 13,
   "id": "3017695c-9833-4404-a940-0b2992da18ee",
   "metadata": {},
   "outputs": [],
   "source": [
    "df['Signal_Strength'] = pd.to_numeric(df['Signal_Strength'], errors='coerce', downcast='float')\n",
    "df['Latency'] = pd.to_numeric(df['Latency'], errors='coerce', downcast='float')\n",
    "df['Required_Bandwidth'] = pd.to_numeric(df['Required_Bandwidth'], errors='coerce', downcast='float')\n",
    "df['Allocated_Bandwidth'] = pd.to_numeric(df['Allocated_Bandwidth'], errors='coerce', downcast='float')"
   ]
  },
  {
   "cell_type": "code",
   "execution_count": 14,
   "id": "4b4aa091-c72f-46ca-b6bc-e6adadc300fd",
   "metadata": {},
   "outputs": [],
   "source": [
    "App= df[['Application_Type']]"
   ]
  },
  {
   "cell_type": "code",
   "execution_count": 15,
   "id": "481d32e7-7da7-4f0f-8c1e-394aeab68549",
   "metadata": {},
   "outputs": [],
   "source": [
    "App= pd.get_dummies(App,prefix=\"AppType\",dtype=int)"
   ]
  },
  {
   "cell_type": "code",
   "execution_count": 16,
   "id": "495a3470-6b13-4bce-b92e-5568856e1182",
   "metadata": {
    "scrolled": true
   },
   "outputs": [
    {
     "data": {
      "text/html": [
       "<div>\n",
       "<style scoped>\n",
       "    .dataframe tbody tr th:only-of-type {\n",
       "        vertical-align: middle;\n",
       "    }\n",
       "\n",
       "    .dataframe tbody tr th {\n",
       "        vertical-align: top;\n",
       "    }\n",
       "\n",
       "    .dataframe thead th {\n",
       "        text-align: right;\n",
       "    }\n",
       "</style>\n",
       "<table border=\"1\" class=\"dataframe\">\n",
       "  <thead>\n",
       "    <tr style=\"text-align: right;\">\n",
       "      <th></th>\n",
       "      <th>AppType_Background_Download</th>\n",
       "      <th>AppType_Emergency_Service</th>\n",
       "      <th>AppType_File_Download</th>\n",
       "      <th>AppType_IoT_Temperature</th>\n",
       "      <th>AppType_Online_Gaming</th>\n",
       "      <th>AppType_Streaming</th>\n",
       "      <th>AppType_Video_Call</th>\n",
       "      <th>AppType_Video_Streaming</th>\n",
       "      <th>AppType_VoIP_Call</th>\n",
       "      <th>AppType_Voice_Call</th>\n",
       "      <th>AppType_Web_Browsing</th>\n",
       "    </tr>\n",
       "  </thead>\n",
       "  <tbody>\n",
       "    <tr>\n",
       "      <th>0</th>\n",
       "      <td>0</td>\n",
       "      <td>0</td>\n",
       "      <td>0</td>\n",
       "      <td>0</td>\n",
       "      <td>0</td>\n",
       "      <td>0</td>\n",
       "      <td>1</td>\n",
       "      <td>0</td>\n",
       "      <td>0</td>\n",
       "      <td>0</td>\n",
       "      <td>0</td>\n",
       "    </tr>\n",
       "    <tr>\n",
       "      <th>1</th>\n",
       "      <td>0</td>\n",
       "      <td>0</td>\n",
       "      <td>0</td>\n",
       "      <td>0</td>\n",
       "      <td>0</td>\n",
       "      <td>0</td>\n",
       "      <td>0</td>\n",
       "      <td>0</td>\n",
       "      <td>0</td>\n",
       "      <td>1</td>\n",
       "      <td>0</td>\n",
       "    </tr>\n",
       "    <tr>\n",
       "      <th>2</th>\n",
       "      <td>0</td>\n",
       "      <td>0</td>\n",
       "      <td>0</td>\n",
       "      <td>0</td>\n",
       "      <td>0</td>\n",
       "      <td>1</td>\n",
       "      <td>0</td>\n",
       "      <td>0</td>\n",
       "      <td>0</td>\n",
       "      <td>0</td>\n",
       "      <td>0</td>\n",
       "    </tr>\n",
       "    <tr>\n",
       "      <th>3</th>\n",
       "      <td>0</td>\n",
       "      <td>1</td>\n",
       "      <td>0</td>\n",
       "      <td>0</td>\n",
       "      <td>0</td>\n",
       "      <td>0</td>\n",
       "      <td>0</td>\n",
       "      <td>0</td>\n",
       "      <td>0</td>\n",
       "      <td>0</td>\n",
       "      <td>0</td>\n",
       "    </tr>\n",
       "    <tr>\n",
       "      <th>4</th>\n",
       "      <td>0</td>\n",
       "      <td>0</td>\n",
       "      <td>0</td>\n",
       "      <td>0</td>\n",
       "      <td>1</td>\n",
       "      <td>0</td>\n",
       "      <td>0</td>\n",
       "      <td>0</td>\n",
       "      <td>0</td>\n",
       "      <td>0</td>\n",
       "      <td>0</td>\n",
       "    </tr>\n",
       "  </tbody>\n",
       "</table>\n",
       "</div>"
      ],
      "text/plain": [
       "   AppType_Background_Download  AppType_Emergency_Service  \\\n",
       "0                            0                          0   \n",
       "1                            0                          0   \n",
       "2                            0                          0   \n",
       "3                            0                          1   \n",
       "4                            0                          0   \n",
       "\n",
       "   AppType_File_Download  AppType_IoT_Temperature  AppType_Online_Gaming  \\\n",
       "0                      0                        0                      0   \n",
       "1                      0                        0                      0   \n",
       "2                      0                        0                      0   \n",
       "3                      0                        0                      0   \n",
       "4                      0                        0                      1   \n",
       "\n",
       "   AppType_Streaming  AppType_Video_Call  AppType_Video_Streaming  \\\n",
       "0                  0                   1                        0   \n",
       "1                  0                   0                        0   \n",
       "2                  1                   0                        0   \n",
       "3                  0                   0                        0   \n",
       "4                  0                   0                        0   \n",
       "\n",
       "   AppType_VoIP_Call  AppType_Voice_Call  AppType_Web_Browsing  \n",
       "0                  0                   0                     0  \n",
       "1                  0                   1                     0  \n",
       "2                  0                   0                     0  \n",
       "3                  0                   0                     0  \n",
       "4                  0                   0                     0  "
      ]
     },
     "execution_count": 16,
     "metadata": {},
     "output_type": "execute_result"
    }
   ],
   "source": [
    "App.head()"
   ]
  },
  {
   "cell_type": "code",
   "execution_count": 17,
   "id": "62324e93-31ea-47ba-9392-2364872c53d5",
   "metadata": {},
   "outputs": [
    {
     "data": {
      "text/html": [
       "<div>\n",
       "<style scoped>\n",
       "    .dataframe tbody tr th:only-of-type {\n",
       "        vertical-align: middle;\n",
       "    }\n",
       "\n",
       "    .dataframe tbody tr th {\n",
       "        vertical-align: top;\n",
       "    }\n",
       "\n",
       "    .dataframe thead th {\n",
       "        text-align: right;\n",
       "    }\n",
       "</style>\n",
       "<table border=\"1\" class=\"dataframe\">\n",
       "  <thead>\n",
       "    <tr style=\"text-align: right;\">\n",
       "      <th></th>\n",
       "      <th>Timestamp</th>\n",
       "      <th>User_ID</th>\n",
       "      <th>Application_Type</th>\n",
       "      <th>Signal_Strength</th>\n",
       "      <th>Latency</th>\n",
       "      <th>Required_Bandwidth</th>\n",
       "      <th>Allocated_Bandwidth</th>\n",
       "      <th>Resource_Allocation</th>\n",
       "      <th>Minute</th>\n",
       "    </tr>\n",
       "  </thead>\n",
       "  <tbody>\n",
       "    <tr>\n",
       "      <th>0</th>\n",
       "      <td>9/3/2023 10:00</td>\n",
       "      <td>User_1</td>\n",
       "      <td>Video_Call</td>\n",
       "      <td>-75.0</td>\n",
       "      <td>30.0</td>\n",
       "      <td>10.0</td>\n",
       "      <td>15.0</td>\n",
       "      <td>70%</td>\n",
       "      <td>0</td>\n",
       "    </tr>\n",
       "    <tr>\n",
       "      <th>1</th>\n",
       "      <td>9/3/2023 10:00</td>\n",
       "      <td>User_2</td>\n",
       "      <td>Voice_Call</td>\n",
       "      <td>-80.0</td>\n",
       "      <td>20.0</td>\n",
       "      <td>100.0</td>\n",
       "      <td>120.0</td>\n",
       "      <td>80%</td>\n",
       "      <td>0</td>\n",
       "    </tr>\n",
       "    <tr>\n",
       "      <th>2</th>\n",
       "      <td>9/3/2023 10:00</td>\n",
       "      <td>User_3</td>\n",
       "      <td>Streaming</td>\n",
       "      <td>-85.0</td>\n",
       "      <td>40.0</td>\n",
       "      <td>5.0</td>\n",
       "      <td>6.0</td>\n",
       "      <td>75%</td>\n",
       "      <td>0</td>\n",
       "    </tr>\n",
       "    <tr>\n",
       "      <th>3</th>\n",
       "      <td>9/3/2023 10:00</td>\n",
       "      <td>User_4</td>\n",
       "      <td>Emergency_Service</td>\n",
       "      <td>-70.0</td>\n",
       "      <td>10.0</td>\n",
       "      <td>1.0</td>\n",
       "      <td>1.5</td>\n",
       "      <td>90%</td>\n",
       "      <td>0</td>\n",
       "    </tr>\n",
       "    <tr>\n",
       "      <th>4</th>\n",
       "      <td>9/3/2023 10:00</td>\n",
       "      <td>User_5</td>\n",
       "      <td>Online_Gaming</td>\n",
       "      <td>-78.0</td>\n",
       "      <td>25.0</td>\n",
       "      <td>2.0</td>\n",
       "      <td>3.0</td>\n",
       "      <td>85%</td>\n",
       "      <td>0</td>\n",
       "    </tr>\n",
       "  </tbody>\n",
       "</table>\n",
       "</div>"
      ],
      "text/plain": [
       "        Timestamp User_ID   Application_Type  Signal_Strength  Latency  \\\n",
       "0  9/3/2023 10:00  User_1         Video_Call            -75.0     30.0   \n",
       "1  9/3/2023 10:00  User_2         Voice_Call            -80.0     20.0   \n",
       "2  9/3/2023 10:00  User_3          Streaming            -85.0     40.0   \n",
       "3  9/3/2023 10:00  User_4  Emergency_Service            -70.0     10.0   \n",
       "4  9/3/2023 10:00  User_5      Online_Gaming            -78.0     25.0   \n",
       "\n",
       "   Required_Bandwidth  Allocated_Bandwidth Resource_Allocation  Minute  \n",
       "0                10.0                 15.0                 70%       0  \n",
       "1               100.0                120.0                 80%       0  \n",
       "2                 5.0                  6.0                 75%       0  \n",
       "3                 1.0                  1.5                 90%       0  \n",
       "4                 2.0                  3.0                 85%       0  "
      ]
     },
     "execution_count": 17,
     "metadata": {},
     "output_type": "execute_result"
    }
   ],
   "source": [
    "df.head()"
   ]
  },
  {
   "cell_type": "code",
   "execution_count": 18,
   "id": "d2497330-14ba-419f-b6e9-20764e588b9c",
   "metadata": {},
   "outputs": [],
   "source": [
    "df['Resource_Allocation'] = df['Resource_Allocation'].str.rstrip('%').astype(float)"
   ]
  },
  {
   "cell_type": "code",
   "execution_count": 19,
   "id": "1ce0592b-17b4-49b6-bb49-32a31df99b21",
   "metadata": {},
   "outputs": [
    {
     "data": {
      "text/plain": [
       "Timestamp              0\n",
       "User_ID                0\n",
       "Application_Type       0\n",
       "Signal_Strength        0\n",
       "Latency                0\n",
       "Required_Bandwidth     0\n",
       "Allocated_Bandwidth    0\n",
       "Resource_Allocation    0\n",
       "Minute                 0\n",
       "dtype: int64"
      ]
     },
     "execution_count": 19,
     "metadata": {},
     "output_type": "execute_result"
    }
   ],
   "source": [
    "df.isna().sum()"
   ]
  },
  {
   "cell_type": "code",
   "execution_count": 20,
   "id": "b14513b2-bf19-4eaf-8ae7-306e46ddd026",
   "metadata": {},
   "outputs": [],
   "source": [
    "df=df.drop('User_ID',axis=1)"
   ]
  },
  {
   "cell_type": "code",
   "execution_count": 21,
   "id": "6ff09887-26c7-4410-92e8-33d021561ef3",
   "metadata": {},
   "outputs": [],
   "source": [
    "df=df.drop('Timestamp',axis=1)"
   ]
  },
  {
   "cell_type": "code",
   "execution_count": null,
   "id": "bbc4fb3b-da67-4764-a908-5bd748ac380b",
   "metadata": {},
   "outputs": [],
   "source": [
    "df=df.drop('Application_Type',axis=1)"
   ]
  },
  {
   "cell_type": "code",
   "execution_count": 29,
   "id": "e8b29d56-9284-463a-9ac4-388ee80f295f",
   "metadata": {},
   "outputs": [],
   "source": [
    "data=pd.concat([df,App],axis=1)"
   ]
  },
  {
   "cell_type": "code",
   "execution_count": 30,
   "id": "c761c67d-0db6-47a0-a174-ea06e5cbb969",
   "metadata": {},
   "outputs": [
    {
     "name": "stdout",
     "output_type": "stream",
     "text": [
      "<class 'pandas.core.frame.DataFrame'>\n",
      "RangeIndex: 400 entries, 0 to 399\n",
      "Data columns (total 17 columns):\n",
      " #   Column                       Non-Null Count  Dtype  \n",
      "---  ------                       --------------  -----  \n",
      " 0   Signal_Strength              400 non-null    float32\n",
      " 1   Latency                      400 non-null    float32\n",
      " 2   Required_Bandwidth           400 non-null    float32\n",
      " 3   Allocated_Bandwidth          400 non-null    float32\n",
      " 4   Resource_Allocation          400 non-null    float64\n",
      " 5   Minute                       400 non-null    int32  \n",
      " 6   AppType_Background_Download  400 non-null    int32  \n",
      " 7   AppType_Emergency_Service    400 non-null    int32  \n",
      " 8   AppType_File_Download        400 non-null    int32  \n",
      " 9   AppType_IoT_Temperature      400 non-null    int32  \n",
      " 10  AppType_Online_Gaming        400 non-null    int32  \n",
      " 11  AppType_Streaming            400 non-null    int32  \n",
      " 12  AppType_Video_Call           400 non-null    int32  \n",
      " 13  AppType_Video_Streaming      400 non-null    int32  \n",
      " 14  AppType_VoIP_Call            400 non-null    int32  \n",
      " 15  AppType_Voice_Call           400 non-null    int32  \n",
      " 16  AppType_Web_Browsing         400 non-null    int32  \n",
      "dtypes: float32(4), float64(1), int32(12)\n",
      "memory usage: 28.3 KB\n"
     ]
    }
   ],
   "source": [
    "data.info()"
   ]
  },
  {
   "cell_type": "code",
   "execution_count": 31,
   "id": "6cecc3c2-84b2-4659-8333-474373e56ac2",
   "metadata": {},
   "outputs": [],
   "source": [
    "correlation_matrix = data.corr()"
   ]
  },
  {
   "cell_type": "code",
   "execution_count": 45,
   "id": "bb8888f6-85c3-4eaa-9a4c-58ef288d74be",
   "metadata": {},
   "outputs": [],
   "source": [
    "# Scale the data\n",
    "scaler = StandardScaler()\n",
    "scaled_df = pd.DataFrame(scaler.fit_transform(data), columns=data.columns)\n",
    "\n",
    "# Calculate the correlation matrix\n",
    "correlation_matrix = scaled_df.corr()"
   ]
  },
  {
   "cell_type": "code",
   "execution_count": 46,
   "id": "b68156c2-2a3c-45e9-928b-ae9e8ccc7bfa",
   "metadata": {},
   "outputs": [
    {
     "data": {
      "image/png": "[encoded data removed]",
      "text/plain": [
       "<Figure size 1400x1200 with 2 Axes>"
      ]
     },
     "metadata": {},
     "output_type": "display_data"
    }
   ],
   "source": [
    "plt.figure(figsize=(14, 12))\n",
    "sns.heatmap(correlation_matrix, annot=False, cmap='coolwarm', vmin=-1, vmax=1, fmt='.2f')\n",
    "plt.title('Correlation Heatmap')\n",
    "plt.show()"
   ]
  },
  {
   "cell_type": "code",
   "execution_count": null,
   "id": "8da01a45-f52a-44ec-aa8f-bab682c7d381",
   "metadata": {},
   "outputs": [],
   "source": [
    "#Important feature using ExtratreesRegressor\n",
    "\n",
    "from sklearn.ensemble import ExtraTreesRegressor\n",
    "selection=ExtraTreesRegressor()\n",
    "selection.fit()"
   ]
  }
 ],
 "metadata": {
  "kernelspec": {
   "display_name": "Python 3 (ipykernel)",
   "language": "python",
   "name": "python3"
  },
  "language_info": {
   "codemirror_mode": {
    "name": "ipython",
    "version": 3
   },
   "file_extension": ".py",
   "mimetype": "text/x-python",
   "name": "python",
   "nbconvert_exporter": "python",
   "pygments_lexer": "ipython3",
   "version": "3.11.5"
  }
 },
 "nbformat": 4,
 "nbformat_minor": 5
}
