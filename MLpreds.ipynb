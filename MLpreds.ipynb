{
 "cells": [
  {
   "cell_type": "code",
   "execution_count": 25,
   "id": "c06e009a-d7a0-41b3-8bc0-98693bb0d54f",
   "metadata": {},
   "outputs": [],
   "source": [
    "import pandas as pd \n",
    "import numpy as np \n",
    "import matplotlib.pyplot as plt \n",
    "import seaborn as sns \n",
    "from sklearn.preprocessing import StandardScaler"
   ]
  },
  {
   "cell_type": "code",
   "execution_count": 26,
   "id": "e0e51c46-7561-4e76-8173-f503a622c83c",
   "metadata": {},
   "outputs": [],
   "source": [
    "df = pd.read_csv(\"Quality of Service 5G.csv\")"
   ]
  },
  {
   "cell_type": "code",
   "execution_count": 27,
   "id": "1cb66587-b892-4f8f-88df-1b489314172d",
   "metadata": {},
   "outputs": [
    {
     "name": "stdout",
     "output_type": "stream",
     "text": [
      "<class 'pandas.core.frame.DataFrame'>\n",
      "RangeIndex: 400 entries, 0 to 399\n",
      "Data columns (total 8 columns):\n",
      " #   Column               Non-Null Count  Dtype \n",
      "---  ------               --------------  ----- \n",
      " 0   Timestamp            400 non-null    object\n",
      " 1   User_ID              400 non-null    object\n",
      " 2   Application_Type     400 non-null    object\n",
      " 3   Signal_Strength      400 non-null    object\n",
      " 4   Latency              400 non-null    object\n",
      " 5   Required_Bandwidth   400 non-null    object\n",
      " 6   Allocated_Bandwidth  400 non-null    object\n",
      " 7   Resource_Allocation  400 non-null    object\n",
      "dtypes: object(8)\n",
      "memory usage: 25.1+ KB\n"
     ]
    }
   ],
   "source": [
    "df.info()"
   ]
  },
  {
   "cell_type": "code",
   "execution_count": 28,
   "id": "a2135427-c7cf-4664-a473-44d109986caf",
   "metadata": {},
   "outputs": [
    {
     "data": {
      "text/html": [
       "<div>\n",
       "<style scoped>\n",
       "    .dataframe tbody tr th:only-of-type {\n",
       "        vertical-align: middle;\n",
       "    }\n",
       "\n",
       "    .dataframe tbody tr th {\n",
       "        vertical-align: top;\n",
       "    }\n",
       "\n",
       "    .dataframe thead th {\n",
       "        text-align: right;\n",
       "    }\n",
       "</style>\n",
       "<table border=\"1\" class=\"dataframe\">\n",
       "  <thead>\n",
       "    <tr style=\"text-align: right;\">\n",
       "      <th></th>\n",
       "      <th>Timestamp</th>\n",
       "      <th>User_ID</th>\n",
       "      <th>Application_Type</th>\n",
       "      <th>Signal_Strength</th>\n",
       "      <th>Latency</th>\n",
       "      <th>Required_Bandwidth</th>\n",
       "      <th>Allocated_Bandwidth</th>\n",
       "      <th>Resource_Allocation</th>\n",
       "    </tr>\n",
       "  </thead>\n",
       "  <tbody>\n",
       "    <tr>\n",
       "      <th>0</th>\n",
       "      <td>9/3/2023 10:00</td>\n",
       "      <td>User_1</td>\n",
       "      <td>Video_Call</td>\n",
       "      <td>-75 dBm</td>\n",
       "      <td>30 ms</td>\n",
       "      <td>10 Mbps</td>\n",
       "      <td>15 Mbps</td>\n",
       "      <td>70%</td>\n",
       "    </tr>\n",
       "    <tr>\n",
       "      <th>1</th>\n",
       "      <td>9/3/2023 10:00</td>\n",
       "      <td>User_2</td>\n",
       "      <td>Voice_Call</td>\n",
       "      <td>-80 dBm</td>\n",
       "      <td>20 ms</td>\n",
       "      <td>100 Kbps</td>\n",
       "      <td>120 Kbps</td>\n",
       "      <td>80%</td>\n",
       "    </tr>\n",
       "    <tr>\n",
       "      <th>2</th>\n",
       "      <td>9/3/2023 10:00</td>\n",
       "      <td>User_3</td>\n",
       "      <td>Streaming</td>\n",
       "      <td>-85 dBm</td>\n",
       "      <td>40 ms</td>\n",
       "      <td>5 Mbps</td>\n",
       "      <td>6 Mbps</td>\n",
       "      <td>75%</td>\n",
       "    </tr>\n",
       "    <tr>\n",
       "      <th>3</th>\n",
       "      <td>9/3/2023 10:00</td>\n",
       "      <td>User_4</td>\n",
       "      <td>Emergency_Service</td>\n",
       "      <td>-70 dBm</td>\n",
       "      <td>10 ms</td>\n",
       "      <td>1 Mbps</td>\n",
       "      <td>1.5 Mbps</td>\n",
       "      <td>90%</td>\n",
       "    </tr>\n",
       "    <tr>\n",
       "      <th>4</th>\n",
       "      <td>9/3/2023 10:00</td>\n",
       "      <td>User_5</td>\n",
       "      <td>Online_Gaming</td>\n",
       "      <td>-78 dBm</td>\n",
       "      <td>25 ms</td>\n",
       "      <td>2 Mbps</td>\n",
       "      <td>3 Mbps</td>\n",
       "      <td>85%</td>\n",
       "    </tr>\n",
       "  </tbody>\n",
       "</table>\n",
       "</div>"
      ],
      "text/plain": [
       "        Timestamp User_ID   Application_Type Signal_Strength Latency  \\\n",
       "0  9/3/2023 10:00  User_1         Video_Call         -75 dBm   30 ms   \n",
       "1  9/3/2023 10:00  User_2         Voice_Call         -80 dBm   20 ms   \n",
       "2  9/3/2023 10:00  User_3          Streaming         -85 dBm   40 ms   \n",
       "3  9/3/2023 10:00  User_4  Emergency_Service         -70 dBm   10 ms   \n",
       "4  9/3/2023 10:00  User_5      Online_Gaming         -78 dBm   25 ms   \n",
       "\n",
       "  Required_Bandwidth Allocated_Bandwidth Resource_Allocation  \n",
       "0            10 Mbps             15 Mbps                 70%  \n",
       "1           100 Kbps            120 Kbps                 80%  \n",
       "2             5 Mbps              6 Mbps                 75%  \n",
       "3             1 Mbps            1.5 Mbps                 90%  \n",
       "4             2 Mbps              3 Mbps                 85%  "
      ]
     },
     "execution_count": 28,
     "metadata": {},
     "output_type": "execute_result"
    }
   ],
   "source": [
    "df.head()"
   ]
  },
  {
   "cell_type": "code",
   "execution_count": 29,
   "id": "1dcfdc9d-bdaa-4455-9f47-acfab7903330",
   "metadata": {},
   "outputs": [
    {
     "data": {
      "text/html": [
       "<div>\n",
       "<style scoped>\n",
       "    .dataframe tbody tr th:only-of-type {\n",
       "        vertical-align: middle;\n",
       "    }\n",
       "\n",
       "    .dataframe tbody tr th {\n",
       "        vertical-align: top;\n",
       "    }\n",
       "\n",
       "    .dataframe thead th {\n",
       "        text-align: right;\n",
       "    }\n",
       "</style>\n",
       "<table border=\"1\" class=\"dataframe\">\n",
       "  <thead>\n",
       "    <tr style=\"text-align: right;\">\n",
       "      <th></th>\n",
       "      <th>Timestamp</th>\n",
       "      <th>User_ID</th>\n",
       "      <th>Application_Type</th>\n",
       "      <th>Signal_Strength</th>\n",
       "      <th>Latency</th>\n",
       "      <th>Required_Bandwidth</th>\n",
       "      <th>Allocated_Bandwidth</th>\n",
       "      <th>Resource_Allocation</th>\n",
       "    </tr>\n",
       "  </thead>\n",
       "  <tbody>\n",
       "    <tr>\n",
       "      <th>count</th>\n",
       "      <td>400</td>\n",
       "      <td>400</td>\n",
       "      <td>400</td>\n",
       "      <td>400</td>\n",
       "      <td>400</td>\n",
       "      <td>400</td>\n",
       "      <td>400</td>\n",
       "      <td>400</td>\n",
       "    </tr>\n",
       "    <tr>\n",
       "      <th>unique</th>\n",
       "      <td>7</td>\n",
       "      <td>400</td>\n",
       "      <td>11</td>\n",
       "      <td>84</td>\n",
       "      <td>87</td>\n",
       "      <td>188</td>\n",
       "      <td>194</td>\n",
       "      <td>9</td>\n",
       "    </tr>\n",
       "    <tr>\n",
       "      <th>top</th>\n",
       "      <td>9/3/2023 10:01</td>\n",
       "      <td>User_1</td>\n",
       "      <td>Video_Call</td>\n",
       "      <td>-97 dBm</td>\n",
       "      <td>5 ms</td>\n",
       "      <td>0.1 Mbps</td>\n",
       "      <td>0.1 Mbps</td>\n",
       "      <td>70%</td>\n",
       "    </tr>\n",
       "    <tr>\n",
       "      <th>freq</th>\n",
       "      <td>60</td>\n",
       "      <td>1</td>\n",
       "      <td>58</td>\n",
       "      <td>9</td>\n",
       "      <td>35</td>\n",
       "      <td>16</td>\n",
       "      <td>16</td>\n",
       "      <td>148</td>\n",
       "    </tr>\n",
       "  </tbody>\n",
       "</table>\n",
       "</div>"
      ],
      "text/plain": [
       "             Timestamp User_ID Application_Type Signal_Strength Latency  \\\n",
       "count              400     400              400             400     400   \n",
       "unique               7     400               11              84      87   \n",
       "top     9/3/2023 10:01  User_1       Video_Call         -97 dBm    5 ms   \n",
       "freq                60       1               58               9      35   \n",
       "\n",
       "       Required_Bandwidth Allocated_Bandwidth Resource_Allocation  \n",
       "count                 400                 400                 400  \n",
       "unique                188                 194                   9  \n",
       "top              0.1 Mbps            0.1 Mbps                 70%  \n",
       "freq                   16                  16                 148  "
      ]
     },
     "execution_count": 29,
     "metadata": {},
     "output_type": "execute_result"
    }
   ],
   "source": [
    "df.describe()"
   ]
  },
  {
   "cell_type": "code",
   "execution_count": 30,
   "id": "3ebb007f-b882-4a50-9c71-aef406c4efb4",
   "metadata": {},
   "outputs": [
    {
     "data": {
      "text/plain": [
       "(400, 8)"
      ]
     },
     "execution_count": 30,
     "metadata": {},
     "output_type": "execute_result"
    }
   ],
   "source": [
    "df.shape"
   ]
  },
  {
   "cell_type": "code",
   "execution_count": 31,
   "id": "c362a31d-46ca-4848-9d63-d63d58c7d7b7",
   "metadata": {},
   "outputs": [],
   "source": [
    "#EXPLORATORY DATA ANALYSIS\n"
   ]
  },
  {
   "cell_type": "code",
   "execution_count": 32,
   "id": "0f636d32-07c4-4e6c-a2d7-dcdc20f7c5e2",
   "metadata": {},
   "outputs": [],
   "source": [
    "df['Signal_Strength'] = df['Signal_Strength'].str.replace('dBm', '')"
   ]
  },
  {
   "cell_type": "code",
   "execution_count": 33,
   "id": "b0bcec30-7027-41f6-ad4f-ecdc01c031f8",
   "metadata": {},
   "outputs": [],
   "source": [
    "df['Minute']=pd.to_datetime(df[\"Timestamp\"]).dt.minute"
   ]
  },
  {
   "cell_type": "code",
   "execution_count": 34,
   "id": "48e56e30-3f0a-4def-b62a-2929ae24a720",
   "metadata": {},
   "outputs": [],
   "source": [
    "df['Latency'] = df['Latency'].str.replace('ms', '')"
   ]
  },
  {
   "cell_type": "code",
   "execution_count": 35,
   "id": "b77cccf4-272f-472a-8cad-859705e725cd",
   "metadata": {},
   "outputs": [],
   "source": [
    "df['Required_Bandwidth'] = df['Required_Bandwidth'].str.replace('Mbps', '').str.replace('Kbps','')\n",
    "df['Allocated_Bandwidth'] = df['Allocated_Bandwidth'].str.replace('Mbps', '').str.replace('Kbps','')"
   ]
  },
  {
   "cell_type": "code",
   "execution_count": 36,
   "id": "57ec0782-7055-469f-be85-8cd7bbfb5b2e",
   "metadata": {},
   "outputs": [
    {
     "data": {
      "text/html": [
       "<div>\n",
       "<style scoped>\n",
       "    .dataframe tbody tr th:only-of-type {\n",
       "        vertical-align: middle;\n",
       "    }\n",
       "\n",
       "    .dataframe tbody tr th {\n",
       "        vertical-align: top;\n",
       "    }\n",
       "\n",
       "    .dataframe thead th {\n",
       "        text-align: right;\n",
       "    }\n",
       "</style>\n",
       "<table border=\"1\" class=\"dataframe\">\n",
       "  <thead>\n",
       "    <tr style=\"text-align: right;\">\n",
       "      <th></th>\n",
       "      <th>Timestamp</th>\n",
       "      <th>User_ID</th>\n",
       "      <th>Application_Type</th>\n",
       "      <th>Signal_Strength</th>\n",
       "      <th>Latency</th>\n",
       "      <th>Required_Bandwidth</th>\n",
       "      <th>Allocated_Bandwidth</th>\n",
       "      <th>Resource_Allocation</th>\n",
       "      <th>Minute</th>\n",
       "    </tr>\n",
       "  </thead>\n",
       "  <tbody>\n",
       "    <tr>\n",
       "      <th>0</th>\n",
       "      <td>9/3/2023 10:00</td>\n",
       "      <td>User_1</td>\n",
       "      <td>Video_Call</td>\n",
       "      <td>-75</td>\n",
       "      <td>30</td>\n",
       "      <td>10</td>\n",
       "      <td>15</td>\n",
       "      <td>70%</td>\n",
       "      <td>0</td>\n",
       "    </tr>\n",
       "    <tr>\n",
       "      <th>1</th>\n",
       "      <td>9/3/2023 10:00</td>\n",
       "      <td>User_2</td>\n",
       "      <td>Voice_Call</td>\n",
       "      <td>-80</td>\n",
       "      <td>20</td>\n",
       "      <td>100</td>\n",
       "      <td>120</td>\n",
       "      <td>80%</td>\n",
       "      <td>0</td>\n",
       "    </tr>\n",
       "    <tr>\n",
       "      <th>2</th>\n",
       "      <td>9/3/2023 10:00</td>\n",
       "      <td>User_3</td>\n",
       "      <td>Streaming</td>\n",
       "      <td>-85</td>\n",
       "      <td>40</td>\n",
       "      <td>5</td>\n",
       "      <td>6</td>\n",
       "      <td>75%</td>\n",
       "      <td>0</td>\n",
       "    </tr>\n",
       "    <tr>\n",
       "      <th>3</th>\n",
       "      <td>9/3/2023 10:00</td>\n",
       "      <td>User_4</td>\n",
       "      <td>Emergency_Service</td>\n",
       "      <td>-70</td>\n",
       "      <td>10</td>\n",
       "      <td>1</td>\n",
       "      <td>1.5</td>\n",
       "      <td>90%</td>\n",
       "      <td>0</td>\n",
       "    </tr>\n",
       "    <tr>\n",
       "      <th>4</th>\n",
       "      <td>9/3/2023 10:00</td>\n",
       "      <td>User_5</td>\n",
       "      <td>Online_Gaming</td>\n",
       "      <td>-78</td>\n",
       "      <td>25</td>\n",
       "      <td>2</td>\n",
       "      <td>3</td>\n",
       "      <td>85%</td>\n",
       "      <td>0</td>\n",
       "    </tr>\n",
       "  </tbody>\n",
       "</table>\n",
       "</div>"
      ],
      "text/plain": [
       "        Timestamp User_ID   Application_Type Signal_Strength Latency  \\\n",
       "0  9/3/2023 10:00  User_1         Video_Call            -75      30    \n",
       "1  9/3/2023 10:00  User_2         Voice_Call            -80      20    \n",
       "2  9/3/2023 10:00  User_3          Streaming            -85      40    \n",
       "3  9/3/2023 10:00  User_4  Emergency_Service            -70      10    \n",
       "4  9/3/2023 10:00  User_5      Online_Gaming            -78      25    \n",
       "\n",
       "  Required_Bandwidth Allocated_Bandwidth Resource_Allocation  Minute  \n",
       "0                10                  15                  70%       0  \n",
       "1               100                 120                  80%       0  \n",
       "2                 5                   6                  75%       0  \n",
       "3                 1                 1.5                  90%       0  \n",
       "4                 2                   3                  85%       0  "
      ]
     },
     "execution_count": 36,
     "metadata": {},
     "output_type": "execute_result"
    }
   ],
   "source": [
    "df.head()"
   ]
  },
  {
   "cell_type": "code",
   "execution_count": 37,
   "id": "3017695c-9833-4404-a940-0b2992da18ee",
   "metadata": {},
   "outputs": [],
   "source": [
    "df['Signal_Strength'] = pd.to_numeric(df['Signal_Strength'], errors='coerce', downcast='float')\n",
    "df['Latency'] = pd.to_numeric(df['Latency'], errors='coerce', downcast='float')\n",
    "df['Required_Bandwidth'] = pd.to_numeric(df['Required_Bandwidth'], errors='coerce', downcast='float')\n",
    "df['Allocated_Bandwidth'] = pd.to_numeric(df['Allocated_Bandwidth'], errors='coerce', downcast='float')"
   ]
  },
  {
   "cell_type": "code",
   "execution_count": 38,
   "id": "4b4aa091-c72f-46ca-b6bc-e6adadc300fd",
   "metadata": {},
   "outputs": [],
   "source": [
    "App= df[['Application_Type']]"
   ]
  },
  {
   "cell_type": "code",
   "execution_count": 39,
   "id": "481d32e7-7da7-4f0f-8c1e-394aeab68549",
   "metadata": {},
   "outputs": [],
   "source": [
    "App= pd.get_dummies(App,prefix=\"AppType\",dtype=int)"
   ]
  },
  {
   "cell_type": "code",
   "execution_count": 40,
   "id": "495a3470-6b13-4bce-b92e-5568856e1182",
   "metadata": {
    "scrolled": true
   },
   "outputs": [
    {
     "data": {
      "text/html": [
       "<div>\n",
       "<style scoped>\n",
       "    .dataframe tbody tr th:only-of-type {\n",
       "        vertical-align: middle;\n",
       "    }\n",
       "\n",
       "    .dataframe tbody tr th {\n",
       "        vertical-align: top;\n",
       "    }\n",
       "\n",
       "    .dataframe thead th {\n",
       "        text-align: right;\n",
       "    }\n",
       "</style>\n",
       "<table border=\"1\" class=\"dataframe\">\n",
       "  <thead>\n",
       "    <tr style=\"text-align: right;\">\n",
       "      <th></th>\n",
       "      <th>AppType_Background_Download</th>\n",
       "      <th>AppType_Emergency_Service</th>\n",
       "      <th>AppType_File_Download</th>\n",
       "      <th>AppType_IoT_Temperature</th>\n",
       "      <th>AppType_Online_Gaming</th>\n",
       "      <th>AppType_Streaming</th>\n",
       "      <th>AppType_Video_Call</th>\n",
       "      <th>AppType_Video_Streaming</th>\n",
       "      <th>AppType_VoIP_Call</th>\n",
       "      <th>AppType_Voice_Call</th>\n",
       "      <th>AppType_Web_Browsing</th>\n",
       "    </tr>\n",
       "  </thead>\n",
       "  <tbody>\n",
       "    <tr>\n",
       "      <th>0</th>\n",
       "      <td>0</td>\n",
       "      <td>0</td>\n",
       "      <td>0</td>\n",
       "      <td>0</td>\n",
       "      <td>0</td>\n",
       "      <td>0</td>\n",
       "      <td>1</td>\n",
       "      <td>0</td>\n",
       "      <td>0</td>\n",
       "      <td>0</td>\n",
       "      <td>0</td>\n",
       "    </tr>\n",
       "    <tr>\n",
       "      <th>1</th>\n",
       "      <td>0</td>\n",
       "      <td>0</td>\n",
       "      <td>0</td>\n",
       "      <td>0</td>\n",
       "      <td>0</td>\n",
       "      <td>0</td>\n",
       "      <td>0</td>\n",
       "      <td>0</td>\n",
       "      <td>0</td>\n",
       "      <td>1</td>\n",
       "      <td>0</td>\n",
       "    </tr>\n",
       "    <tr>\n",
       "      <th>2</th>\n",
       "      <td>0</td>\n",
       "      <td>0</td>\n",
       "      <td>0</td>\n",
       "      <td>0</td>\n",
       "      <td>0</td>\n",
       "      <td>1</td>\n",
       "      <td>0</td>\n",
       "      <td>0</td>\n",
       "      <td>0</td>\n",
       "      <td>0</td>\n",
       "      <td>0</td>\n",
       "    </tr>\n",
       "    <tr>\n",
       "      <th>3</th>\n",
       "      <td>0</td>\n",
       "      <td>1</td>\n",
       "      <td>0</td>\n",
       "      <td>0</td>\n",
       "      <td>0</td>\n",
       "      <td>0</td>\n",
       "      <td>0</td>\n",
       "      <td>0</td>\n",
       "      <td>0</td>\n",
       "      <td>0</td>\n",
       "      <td>0</td>\n",
       "    </tr>\n",
       "    <tr>\n",
       "      <th>4</th>\n",
       "      <td>0</td>\n",
       "      <td>0</td>\n",
       "      <td>0</td>\n",
       "      <td>0</td>\n",
       "      <td>1</td>\n",
       "      <td>0</td>\n",
       "      <td>0</td>\n",
       "      <td>0</td>\n",
       "      <td>0</td>\n",
       "      <td>0</td>\n",
       "      <td>0</td>\n",
       "    </tr>\n",
       "  </tbody>\n",
       "</table>\n",
       "</div>"
      ],
      "text/plain": [
       "   AppType_Background_Download  AppType_Emergency_Service  \\\n",
       "0                            0                          0   \n",
       "1                            0                          0   \n",
       "2                            0                          0   \n",
       "3                            0                          1   \n",
       "4                            0                          0   \n",
       "\n",
       "   AppType_File_Download  AppType_IoT_Temperature  AppType_Online_Gaming  \\\n",
       "0                      0                        0                      0   \n",
       "1                      0                        0                      0   \n",
       "2                      0                        0                      0   \n",
       "3                      0                        0                      0   \n",
       "4                      0                        0                      1   \n",
       "\n",
       "   AppType_Streaming  AppType_Video_Call  AppType_Video_Streaming  \\\n",
       "0                  0                   1                        0   \n",
       "1                  0                   0                        0   \n",
       "2                  1                   0                        0   \n",
       "3                  0                   0                        0   \n",
       "4                  0                   0                        0   \n",
       "\n",
       "   AppType_VoIP_Call  AppType_Voice_Call  AppType_Web_Browsing  \n",
       "0                  0                   0                     0  \n",
       "1                  0                   1                     0  \n",
       "2                  0                   0                     0  \n",
       "3                  0                   0                     0  \n",
       "4                  0                   0                     0  "
      ]
     },
     "execution_count": 40,
     "metadata": {},
     "output_type": "execute_result"
    }
   ],
   "source": [
    "App.head()"
   ]
  },
  {
   "cell_type": "code",
   "execution_count": 41,
   "id": "62324e93-31ea-47ba-9392-2364872c53d5",
   "metadata": {},
   "outputs": [
    {
     "data": {
      "text/html": [
       "<div>\n",
       "<style scoped>\n",
       "    .dataframe tbody tr th:only-of-type {\n",
       "        vertical-align: middle;\n",
       "    }\n",
       "\n",
       "    .dataframe tbody tr th {\n",
       "        vertical-align: top;\n",
       "    }\n",
       "\n",
       "    .dataframe thead th {\n",
       "        text-align: right;\n",
       "    }\n",
       "</style>\n",
       "<table border=\"1\" class=\"dataframe\">\n",
       "  <thead>\n",
       "    <tr style=\"text-align: right;\">\n",
       "      <th></th>\n",
       "      <th>Timestamp</th>\n",
       "      <th>User_ID</th>\n",
       "      <th>Application_Type</th>\n",
       "      <th>Signal_Strength</th>\n",
       "      <th>Latency</th>\n",
       "      <th>Required_Bandwidth</th>\n",
       "      <th>Allocated_Bandwidth</th>\n",
       "      <th>Resource_Allocation</th>\n",
       "      <th>Minute</th>\n",
       "    </tr>\n",
       "  </thead>\n",
       "  <tbody>\n",
       "    <tr>\n",
       "      <th>0</th>\n",
       "      <td>9/3/2023 10:00</td>\n",
       "      <td>User_1</td>\n",
       "      <td>Video_Call</td>\n",
       "      <td>-75.0</td>\n",
       "      <td>30.0</td>\n",
       "      <td>10.0</td>\n",
       "      <td>15.0</td>\n",
       "      <td>70%</td>\n",
       "      <td>0</td>\n",
       "    </tr>\n",
       "    <tr>\n",
       "      <th>1</th>\n",
       "      <td>9/3/2023 10:00</td>\n",
       "      <td>User_2</td>\n",
       "      <td>Voice_Call</td>\n",
       "      <td>-80.0</td>\n",
       "      <td>20.0</td>\n",
       "      <td>100.0</td>\n",
       "      <td>120.0</td>\n",
       "      <td>80%</td>\n",
       "      <td>0</td>\n",
       "    </tr>\n",
       "    <tr>\n",
       "      <th>2</th>\n",
       "      <td>9/3/2023 10:00</td>\n",
       "      <td>User_3</td>\n",
       "      <td>Streaming</td>\n",
       "      <td>-85.0</td>\n",
       "      <td>40.0</td>\n",
       "      <td>5.0</td>\n",
       "      <td>6.0</td>\n",
       "      <td>75%</td>\n",
       "      <td>0</td>\n",
       "    </tr>\n",
       "    <tr>\n",
       "      <th>3</th>\n",
       "      <td>9/3/2023 10:00</td>\n",
       "      <td>User_4</td>\n",
       "      <td>Emergency_Service</td>\n",
       "      <td>-70.0</td>\n",
       "      <td>10.0</td>\n",
       "      <td>1.0</td>\n",
       "      <td>1.5</td>\n",
       "      <td>90%</td>\n",
       "      <td>0</td>\n",
       "    </tr>\n",
       "    <tr>\n",
       "      <th>4</th>\n",
       "      <td>9/3/2023 10:00</td>\n",
       "      <td>User_5</td>\n",
       "      <td>Online_Gaming</td>\n",
       "      <td>-78.0</td>\n",
       "      <td>25.0</td>\n",
       "      <td>2.0</td>\n",
       "      <td>3.0</td>\n",
       "      <td>85%</td>\n",
       "      <td>0</td>\n",
       "    </tr>\n",
       "  </tbody>\n",
       "</table>\n",
       "</div>"
      ],
      "text/plain": [
       "        Timestamp User_ID   Application_Type  Signal_Strength  Latency  \\\n",
       "0  9/3/2023 10:00  User_1         Video_Call            -75.0     30.0   \n",
       "1  9/3/2023 10:00  User_2         Voice_Call            -80.0     20.0   \n",
       "2  9/3/2023 10:00  User_3          Streaming            -85.0     40.0   \n",
       "3  9/3/2023 10:00  User_4  Emergency_Service            -70.0     10.0   \n",
       "4  9/3/2023 10:00  User_5      Online_Gaming            -78.0     25.0   \n",
       "\n",
       "   Required_Bandwidth  Allocated_Bandwidth Resource_Allocation  Minute  \n",
       "0                10.0                 15.0                 70%       0  \n",
       "1               100.0                120.0                 80%       0  \n",
       "2                 5.0                  6.0                 75%       0  \n",
       "3                 1.0                  1.5                 90%       0  \n",
       "4                 2.0                  3.0                 85%       0  "
      ]
     },
     "execution_count": 41,
     "metadata": {},
     "output_type": "execute_result"
    }
   ],
   "source": [
    "df.head()"
   ]
  },
  {
   "cell_type": "code",
   "execution_count": 42,
   "id": "d2497330-14ba-419f-b6e9-20764e588b9c",
   "metadata": {},
   "outputs": [],
   "source": [
    "df['Resource_Allocation'] = df['Resource_Allocation'].str.rstrip('%').astype(float)"
   ]
  },
  {
   "cell_type": "code",
   "execution_count": 43,
   "id": "1ce0592b-17b4-49b6-bb49-32a31df99b21",
   "metadata": {},
   "outputs": [
    {
     "data": {
      "text/plain": [
       "Timestamp              0\n",
       "User_ID                0\n",
       "Application_Type       0\n",
       "Signal_Strength        0\n",
       "Latency                0\n",
       "Required_Bandwidth     0\n",
       "Allocated_Bandwidth    0\n",
       "Resource_Allocation    0\n",
       "Minute                 0\n",
       "dtype: int64"
      ]
     },
     "execution_count": 43,
     "metadata": {},
     "output_type": "execute_result"
    }
   ],
   "source": [
    "df.isna().sum()"
   ]
  },
  {
   "cell_type": "code",
   "execution_count": 44,
   "id": "b14513b2-bf19-4eaf-8ae7-306e46ddd026",
   "metadata": {},
   "outputs": [],
   "source": [
    "df=df.drop('User_ID',axis=1)"
   ]
  },
  {
   "cell_type": "code",
   "execution_count": 45,
   "id": "6ff09887-26c7-4410-92e8-33d021561ef3",
   "metadata": {},
   "outputs": [],
   "source": [
    "df=df.drop('Timestamp',axis=1)"
   ]
  },
  {
   "cell_type": "code",
   "execution_count": 46,
   "id": "fb38ab61-083f-44af-a11f-31daeb7e56ef",
   "metadata": {},
   "outputs": [],
   "source": [
    "df=df.drop('Application_Type',axis=1)"
   ]
  },
  {
   "cell_type": "code",
   "execution_count": 47,
   "id": "a74265f5-30a0-46c6-92d7-2b0129bffaf2",
   "metadata": {},
   "outputs": [],
   "source": [
    "df=df.drop('Minute',axis=1)"
   ]
  },
  {
   "cell_type": "code",
   "execution_count": 48,
   "id": "e8b29d56-9284-463a-9ac4-388ee80f295f",
   "metadata": {},
   "outputs": [],
   "source": [
    "data=pd.concat([df,App],axis=1)"
   ]
  },
  {
   "cell_type": "code",
   "execution_count": 49,
   "id": "c761c67d-0db6-47a0-a174-ea06e5cbb969",
   "metadata": {},
   "outputs": [
    {
     "name": "stdout",
     "output_type": "stream",
     "text": [
      "<class 'pandas.core.frame.DataFrame'>\n",
      "RangeIndex: 400 entries, 0 to 399\n",
      "Data columns (total 16 columns):\n",
      " #   Column                       Non-Null Count  Dtype  \n",
      "---  ------                       --------------  -----  \n",
      " 0   Signal_Strength              400 non-null    float32\n",
      " 1   Latency                      400 non-null    float32\n",
      " 2   Required_Bandwidth           400 non-null    float32\n",
      " 3   Allocated_Bandwidth          400 non-null    float32\n",
      " 4   Resource_Allocation          400 non-null    float64\n",
      " 5   AppType_Background_Download  400 non-null    int32  \n",
      " 6   AppType_Emergency_Service    400 non-null    int32  \n",
      " 7   AppType_File_Download        400 non-null    int32  \n",
      " 8   AppType_IoT_Temperature      400 non-null    int32  \n",
      " 9   AppType_Online_Gaming        400 non-null    int32  \n",
      " 10  AppType_Streaming            400 non-null    int32  \n",
      " 11  AppType_Video_Call           400 non-null    int32  \n",
      " 12  AppType_Video_Streaming      400 non-null    int32  \n",
      " 13  AppType_VoIP_Call            400 non-null    int32  \n",
      " 14  AppType_Voice_Call           400 non-null    int32  \n",
      " 15  AppType_Web_Browsing         400 non-null    int32  \n",
      "dtypes: float32(4), float64(1), int32(11)\n",
      "memory usage: 26.7 KB\n"
     ]
    }
   ],
   "source": [
    "data.info()"
   ]
  },
  {
   "cell_type": "code",
   "execution_count": 50,
   "id": "5b7e041c-bcfa-40e5-9cfb-e485a5543225",
   "metadata": {},
   "outputs": [],
   "source": [
    "correlation_matrix = data.corr()"
   ]
  },
  {
   "cell_type": "code",
   "execution_count": 51,
   "id": "125b8761-f594-44a9-a9eb-969700c95752",
   "metadata": {},
   "outputs": [
    {
     "data": {
      "text/html": [
       "<div>\n",
       "<style scoped>\n",
       "    .dataframe tbody tr th:only-of-type {\n",
       "        vertical-align: middle;\n",
       "    }\n",
       "\n",
       "    .dataframe tbody tr th {\n",
       "        vertical-align: top;\n",
       "    }\n",
       "\n",
       "    .dataframe thead th {\n",
       "        text-align: right;\n",
       "    }\n",
       "</style>\n",
       "<table border=\"1\" class=\"dataframe\">\n",
       "  <thead>\n",
       "    <tr style=\"text-align: right;\">\n",
       "      <th></th>\n",
       "      <th>Signal_Strength</th>\n",
       "      <th>Latency</th>\n",
       "      <th>Required_Bandwidth</th>\n",
       "      <th>Allocated_Bandwidth</th>\n",
       "      <th>Resource_Allocation</th>\n",
       "      <th>AppType_Background_Download</th>\n",
       "      <th>AppType_Emergency_Service</th>\n",
       "      <th>AppType_File_Download</th>\n",
       "      <th>AppType_IoT_Temperature</th>\n",
       "      <th>AppType_Online_Gaming</th>\n",
       "      <th>AppType_Streaming</th>\n",
       "      <th>AppType_Video_Call</th>\n",
       "      <th>AppType_Video_Streaming</th>\n",
       "      <th>AppType_VoIP_Call</th>\n",
       "      <th>AppType_Voice_Call</th>\n",
       "      <th>AppType_Web_Browsing</th>\n",
       "    </tr>\n",
       "  </thead>\n",
       "  <tbody>\n",
       "    <tr>\n",
       "      <th>Signal_Strength</th>\n",
       "      <td>1.000000</td>\n",
       "      <td>-0.392676</td>\n",
       "      <td>-0.380059</td>\n",
       "      <td>-0.376591</td>\n",
       "      <td>0.303580</td>\n",
       "      <td>-0.415958</td>\n",
       "      <td>0.470605</td>\n",
       "      <td>0.013305</td>\n",
       "      <td>-0.174952</td>\n",
       "      <td>0.315812</td>\n",
       "      <td>-0.160991</td>\n",
       "      <td>0.360489</td>\n",
       "      <td>-0.237218</td>\n",
       "      <td>0.082162</td>\n",
       "      <td>0.001199</td>\n",
       "      <td>-0.344652</td>\n",
       "    </tr>\n",
       "    <tr>\n",
       "      <th>Latency</th>\n",
       "      <td>-0.392676</td>\n",
       "      <td>1.000000</td>\n",
       "      <td>0.335820</td>\n",
       "      <td>0.332892</td>\n",
       "      <td>-0.137848</td>\n",
       "      <td>0.400487</td>\n",
       "      <td>-0.488645</td>\n",
       "      <td>0.026520</td>\n",
       "      <td>0.593644</td>\n",
       "      <td>-0.079557</td>\n",
       "      <td>0.138826</td>\n",
       "      <td>-0.018461</td>\n",
       "      <td>0.086935</td>\n",
       "      <td>-0.043072</td>\n",
       "      <td>-0.032808</td>\n",
       "      <td>-0.319680</td>\n",
       "    </tr>\n",
       "    <tr>\n",
       "      <th>Required_Bandwidth</th>\n",
       "      <td>-0.380059</td>\n",
       "      <td>0.335820</td>\n",
       "      <td>1.000000</td>\n",
       "      <td>0.999035</td>\n",
       "      <td>-0.495025</td>\n",
       "      <td>0.963224</td>\n",
       "      <td>-0.157489</td>\n",
       "      <td>-0.021236</td>\n",
       "      <td>-0.075847</td>\n",
       "      <td>-0.146750</td>\n",
       "      <td>-0.152011</td>\n",
       "      <td>-0.146029</td>\n",
       "      <td>-0.152861</td>\n",
       "      <td>0.008209</td>\n",
       "      <td>0.006302</td>\n",
       "      <td>-0.159778</td>\n",
       "    </tr>\n",
       "    <tr>\n",
       "      <th>Allocated_Bandwidth</th>\n",
       "      <td>-0.376591</td>\n",
       "      <td>0.332892</td>\n",
       "      <td>0.999035</td>\n",
       "      <td>1.000000</td>\n",
       "      <td>-0.468691</td>\n",
       "      <td>0.956110</td>\n",
       "      <td>-0.163515</td>\n",
       "      <td>-0.022082</td>\n",
       "      <td>-0.077609</td>\n",
       "      <td>-0.152152</td>\n",
       "      <td>-0.157084</td>\n",
       "      <td>-0.148691</td>\n",
       "      <td>-0.158266</td>\n",
       "      <td>0.047064</td>\n",
       "      <td>0.010983</td>\n",
       "      <td>-0.166012</td>\n",
       "    </tr>\n",
       "    <tr>\n",
       "      <th>Resource_Allocation</th>\n",
       "      <td>0.303580</td>\n",
       "      <td>-0.137848</td>\n",
       "      <td>-0.495025</td>\n",
       "      <td>-0.468691</td>\n",
       "      <td>1.000000</td>\n",
       "      <td>-0.594091</td>\n",
       "      <td>-0.165715</td>\n",
       "      <td>-0.026298</td>\n",
       "      <td>-0.088420</td>\n",
       "      <td>0.209845</td>\n",
       "      <td>0.396800</td>\n",
       "      <td>-0.010546</td>\n",
       "      <td>-0.178696</td>\n",
       "      <td>0.609918</td>\n",
       "      <td>0.029507</td>\n",
       "      <td>-0.206843</td>\n",
       "    </tr>\n",
       "    <tr>\n",
       "      <th>AppType_Background_Download</th>\n",
       "      <td>-0.415958</td>\n",
       "      <td>0.400487</td>\n",
       "      <td>0.963224</td>\n",
       "      <td>0.956110</td>\n",
       "      <td>-0.594091</td>\n",
       "      <td>1.000000</td>\n",
       "      <td>-0.133144</td>\n",
       "      <td>-0.018267</td>\n",
       "      <td>-0.066877</td>\n",
       "      <td>-0.129913</td>\n",
       "      <td>-0.133144</td>\n",
       "      <td>-0.150267</td>\n",
       "      <td>-0.133144</td>\n",
       "      <td>-0.131534</td>\n",
       "      <td>-0.018267</td>\n",
       "      <td>-0.134744</td>\n",
       "    </tr>\n",
       "    <tr>\n",
       "      <th>AppType_Emergency_Service</th>\n",
       "      <td>0.470605</td>\n",
       "      <td>-0.488645</td>\n",
       "      <td>-0.157489</td>\n",
       "      <td>-0.163515</td>\n",
       "      <td>-0.165715</td>\n",
       "      <td>-0.133144</td>\n",
       "      <td>1.000000</td>\n",
       "      <td>-0.018267</td>\n",
       "      <td>-0.066877</td>\n",
       "      <td>-0.129913</td>\n",
       "      <td>-0.133144</td>\n",
       "      <td>-0.150267</td>\n",
       "      <td>-0.133144</td>\n",
       "      <td>-0.131534</td>\n",
       "      <td>-0.018267</td>\n",
       "      <td>-0.134744</td>\n",
       "    </tr>\n",
       "    <tr>\n",
       "      <th>AppType_File_Download</th>\n",
       "      <td>0.013305</td>\n",
       "      <td>0.026520</td>\n",
       "      <td>-0.021236</td>\n",
       "      <td>-0.022082</td>\n",
       "      <td>-0.026298</td>\n",
       "      <td>-0.018267</td>\n",
       "      <td>-0.018267</td>\n",
       "      <td>1.000000</td>\n",
       "      <td>-0.009176</td>\n",
       "      <td>-0.017824</td>\n",
       "      <td>-0.018267</td>\n",
       "      <td>-0.020616</td>\n",
       "      <td>-0.018267</td>\n",
       "      <td>-0.018046</td>\n",
       "      <td>-0.002506</td>\n",
       "      <td>-0.018487</td>\n",
       "    </tr>\n",
       "    <tr>\n",
       "      <th>AppType_IoT_Temperature</th>\n",
       "      <td>-0.174952</td>\n",
       "      <td>0.593644</td>\n",
       "      <td>-0.075847</td>\n",
       "      <td>-0.077609</td>\n",
       "      <td>-0.088420</td>\n",
       "      <td>-0.066877</td>\n",
       "      <td>-0.066877</td>\n",
       "      <td>-0.009176</td>\n",
       "      <td>1.000000</td>\n",
       "      <td>-0.065254</td>\n",
       "      <td>-0.066877</td>\n",
       "      <td>-0.075477</td>\n",
       "      <td>-0.066877</td>\n",
       "      <td>-0.066068</td>\n",
       "      <td>-0.009176</td>\n",
       "      <td>-0.067681</td>\n",
       "    </tr>\n",
       "    <tr>\n",
       "      <th>AppType_Online_Gaming</th>\n",
       "      <td>0.315812</td>\n",
       "      <td>-0.079557</td>\n",
       "      <td>-0.146750</td>\n",
       "      <td>-0.152152</td>\n",
       "      <td>0.209845</td>\n",
       "      <td>-0.129913</td>\n",
       "      <td>-0.129913</td>\n",
       "      <td>-0.017824</td>\n",
       "      <td>-0.065254</td>\n",
       "      <td>1.000000</td>\n",
       "      <td>-0.129913</td>\n",
       "      <td>-0.146620</td>\n",
       "      <td>-0.129913</td>\n",
       "      <td>-0.128342</td>\n",
       "      <td>-0.017824</td>\n",
       "      <td>-0.131474</td>\n",
       "    </tr>\n",
       "    <tr>\n",
       "      <th>AppType_Streaming</th>\n",
       "      <td>-0.160991</td>\n",
       "      <td>0.138826</td>\n",
       "      <td>-0.152011</td>\n",
       "      <td>-0.157084</td>\n",
       "      <td>0.396800</td>\n",
       "      <td>-0.133144</td>\n",
       "      <td>-0.133144</td>\n",
       "      <td>-0.018267</td>\n",
       "      <td>-0.066877</td>\n",
       "      <td>-0.129913</td>\n",
       "      <td>1.000000</td>\n",
       "      <td>-0.150267</td>\n",
       "      <td>-0.133144</td>\n",
       "      <td>-0.131534</td>\n",
       "      <td>-0.018267</td>\n",
       "      <td>-0.134744</td>\n",
       "    </tr>\n",
       "    <tr>\n",
       "      <th>AppType_Video_Call</th>\n",
       "      <td>0.360489</td>\n",
       "      <td>-0.018461</td>\n",
       "      <td>-0.146029</td>\n",
       "      <td>-0.148691</td>\n",
       "      <td>-0.010546</td>\n",
       "      <td>-0.150267</td>\n",
       "      <td>-0.150267</td>\n",
       "      <td>-0.020616</td>\n",
       "      <td>-0.075477</td>\n",
       "      <td>-0.146620</td>\n",
       "      <td>-0.150267</td>\n",
       "      <td>1.000000</td>\n",
       "      <td>-0.150267</td>\n",
       "      <td>-0.148449</td>\n",
       "      <td>-0.020616</td>\n",
       "      <td>-0.152072</td>\n",
       "    </tr>\n",
       "    <tr>\n",
       "      <th>AppType_Video_Streaming</th>\n",
       "      <td>-0.237218</td>\n",
       "      <td>0.086935</td>\n",
       "      <td>-0.152861</td>\n",
       "      <td>-0.158266</td>\n",
       "      <td>-0.178696</td>\n",
       "      <td>-0.133144</td>\n",
       "      <td>-0.133144</td>\n",
       "      <td>-0.018267</td>\n",
       "      <td>-0.066877</td>\n",
       "      <td>-0.129913</td>\n",
       "      <td>-0.133144</td>\n",
       "      <td>-0.150267</td>\n",
       "      <td>1.000000</td>\n",
       "      <td>-0.131534</td>\n",
       "      <td>-0.018267</td>\n",
       "      <td>-0.134744</td>\n",
       "    </tr>\n",
       "    <tr>\n",
       "      <th>AppType_VoIP_Call</th>\n",
       "      <td>0.082162</td>\n",
       "      <td>-0.043072</td>\n",
       "      <td>0.008209</td>\n",
       "      <td>0.047064</td>\n",
       "      <td>0.609918</td>\n",
       "      <td>-0.131534</td>\n",
       "      <td>-0.131534</td>\n",
       "      <td>-0.018046</td>\n",
       "      <td>-0.066068</td>\n",
       "      <td>-0.128342</td>\n",
       "      <td>-0.131534</td>\n",
       "      <td>-0.148449</td>\n",
       "      <td>-0.131534</td>\n",
       "      <td>1.000000</td>\n",
       "      <td>-0.018046</td>\n",
       "      <td>-0.133115</td>\n",
       "    </tr>\n",
       "    <tr>\n",
       "      <th>AppType_Voice_Call</th>\n",
       "      <td>0.001199</td>\n",
       "      <td>-0.032808</td>\n",
       "      <td>0.006302</td>\n",
       "      <td>0.010983</td>\n",
       "      <td>0.029507</td>\n",
       "      <td>-0.018267</td>\n",
       "      <td>-0.018267</td>\n",
       "      <td>-0.002506</td>\n",
       "      <td>-0.009176</td>\n",
       "      <td>-0.017824</td>\n",
       "      <td>-0.018267</td>\n",
       "      <td>-0.020616</td>\n",
       "      <td>-0.018267</td>\n",
       "      <td>-0.018046</td>\n",
       "      <td>1.000000</td>\n",
       "      <td>-0.018487</td>\n",
       "    </tr>\n",
       "    <tr>\n",
       "      <th>AppType_Web_Browsing</th>\n",
       "      <td>-0.344652</td>\n",
       "      <td>-0.319680</td>\n",
       "      <td>-0.159778</td>\n",
       "      <td>-0.166012</td>\n",
       "      <td>-0.206843</td>\n",
       "      <td>-0.134744</td>\n",
       "      <td>-0.134744</td>\n",
       "      <td>-0.018487</td>\n",
       "      <td>-0.067681</td>\n",
       "      <td>-0.131474</td>\n",
       "      <td>-0.134744</td>\n",
       "      <td>-0.152072</td>\n",
       "      <td>-0.134744</td>\n",
       "      <td>-0.133115</td>\n",
       "      <td>-0.018487</td>\n",
       "      <td>1.000000</td>\n",
       "    </tr>\n",
       "  </tbody>\n",
       "</table>\n",
       "</div>"
      ],
      "text/plain": [
       "                             Signal_Strength   Latency  Required_Bandwidth  \\\n",
       "Signal_Strength                     1.000000 -0.392676           -0.380059   \n",
       "Latency                            -0.392676  1.000000            0.335820   \n",
       "Required_Bandwidth                 -0.380059  0.335820            1.000000   \n",
       "Allocated_Bandwidth                -0.376591  0.332892            0.999035   \n",
       "Resource_Allocation                 0.303580 -0.137848           -0.495025   \n",
       "AppType_Background_Download        -0.415958  0.400487            0.963224   \n",
       "AppType_Emergency_Service           0.470605 -0.488645           -0.157489   \n",
       "AppType_File_Download               0.013305  0.026520           -0.021236   \n",
       "AppType_IoT_Temperature            -0.174952  0.593644           -0.075847   \n",
       "AppType_Online_Gaming               0.315812 -0.079557           -0.146750   \n",
       "AppType_Streaming                  -0.160991  0.138826           -0.152011   \n",
       "AppType_Video_Call                  0.360489 -0.018461           -0.146029   \n",
       "AppType_Video_Streaming            -0.237218  0.086935           -0.152861   \n",
       "AppType_VoIP_Call                   0.082162 -0.043072            0.008209   \n",
       "AppType_Voice_Call                  0.001199 -0.032808            0.006302   \n",
       "AppType_Web_Browsing               -0.344652 -0.319680           -0.159778   \n",
       "\n",
       "                             Allocated_Bandwidth  Resource_Allocation  \\\n",
       "Signal_Strength                        -0.376591             0.303580   \n",
       "Latency                                 0.332892            -0.137848   \n",
       "Required_Bandwidth                      0.999035            -0.495025   \n",
       "Allocated_Bandwidth                     1.000000            -0.468691   \n",
       "Resource_Allocation                    -0.468691             1.000000   \n",
       "AppType_Background_Download             0.956110            -0.594091   \n",
       "AppType_Emergency_Service              -0.163515            -0.165715   \n",
       "AppType_File_Download                  -0.022082            -0.026298   \n",
       "AppType_IoT_Temperature                -0.077609            -0.088420   \n",
       "AppType_Online_Gaming                  -0.152152             0.209845   \n",
       "AppType_Streaming                      -0.157084             0.396800   \n",
       "AppType_Video_Call                     -0.148691            -0.010546   \n",
       "AppType_Video_Streaming                -0.158266            -0.178696   \n",
       "AppType_VoIP_Call                       0.047064             0.609918   \n",
       "AppType_Voice_Call                      0.010983             0.029507   \n",
       "AppType_Web_Browsing                   -0.166012            -0.206843   \n",
       "\n",
       "                             AppType_Background_Download  \\\n",
       "Signal_Strength                                -0.415958   \n",
       "Latency                                         0.400487   \n",
       "Required_Bandwidth                              0.963224   \n",
       "Allocated_Bandwidth                             0.956110   \n",
       "Resource_Allocation                            -0.594091   \n",
       "AppType_Background_Download                     1.000000   \n",
       "AppType_Emergency_Service                      -0.133144   \n",
       "AppType_File_Download                          -0.018267   \n",
       "AppType_IoT_Temperature                        -0.066877   \n",
       "AppType_Online_Gaming                          -0.129913   \n",
       "AppType_Streaming                              -0.133144   \n",
       "AppType_Video_Call                             -0.150267   \n",
       "AppType_Video_Streaming                        -0.133144   \n",
       "AppType_VoIP_Call                              -0.131534   \n",
       "AppType_Voice_Call                             -0.018267   \n",
       "AppType_Web_Browsing                           -0.134744   \n",
       "\n",
       "                             AppType_Emergency_Service  AppType_File_Download  \\\n",
       "Signal_Strength                               0.470605               0.013305   \n",
       "Latency                                      -0.488645               0.026520   \n",
       "Required_Bandwidth                           -0.157489              -0.021236   \n",
       "Allocated_Bandwidth                          -0.163515              -0.022082   \n",
       "Resource_Allocation                          -0.165715              -0.026298   \n",
       "AppType_Background_Download                  -0.133144              -0.018267   \n",
       "AppType_Emergency_Service                     1.000000              -0.018267   \n",
       "AppType_File_Download                        -0.018267               1.000000   \n",
       "AppType_IoT_Temperature                      -0.066877              -0.009176   \n",
       "AppType_Online_Gaming                        -0.129913              -0.017824   \n",
       "AppType_Streaming                            -0.133144              -0.018267   \n",
       "AppType_Video_Call                           -0.150267              -0.020616   \n",
       "AppType_Video_Streaming                      -0.133144              -0.018267   \n",
       "AppType_VoIP_Call                            -0.131534              -0.018046   \n",
       "AppType_Voice_Call                           -0.018267              -0.002506   \n",
       "AppType_Web_Browsing                         -0.134744              -0.018487   \n",
       "\n",
       "                             AppType_IoT_Temperature  AppType_Online_Gaming  \\\n",
       "Signal_Strength                            -0.174952               0.315812   \n",
       "Latency                                     0.593644              -0.079557   \n",
       "Required_Bandwidth                         -0.075847              -0.146750   \n",
       "Allocated_Bandwidth                        -0.077609              -0.152152   \n",
       "Resource_Allocation                        -0.088420               0.209845   \n",
       "AppType_Background_Download                -0.066877              -0.129913   \n",
       "AppType_Emergency_Service                  -0.066877              -0.129913   \n",
       "AppType_File_Download                      -0.009176              -0.017824   \n",
       "AppType_IoT_Temperature                     1.000000              -0.065254   \n",
       "AppType_Online_Gaming                      -0.065254               1.000000   \n",
       "AppType_Streaming                          -0.066877              -0.129913   \n",
       "AppType_Video_Call                         -0.075477              -0.146620   \n",
       "AppType_Video_Streaming                    -0.066877              -0.129913   \n",
       "AppType_VoIP_Call                          -0.066068              -0.128342   \n",
       "AppType_Voice_Call                         -0.009176              -0.017824   \n",
       "AppType_Web_Browsing                       -0.067681              -0.131474   \n",
       "\n",
       "                             AppType_Streaming  AppType_Video_Call  \\\n",
       "Signal_Strength                      -0.160991            0.360489   \n",
       "Latency                               0.138826           -0.018461   \n",
       "Required_Bandwidth                   -0.152011           -0.146029   \n",
       "Allocated_Bandwidth                  -0.157084           -0.148691   \n",
       "Resource_Allocation                   0.396800           -0.010546   \n",
       "AppType_Background_Download          -0.133144           -0.150267   \n",
       "AppType_Emergency_Service            -0.133144           -0.150267   \n",
       "AppType_File_Download                -0.018267           -0.020616   \n",
       "AppType_IoT_Temperature              -0.066877           -0.075477   \n",
       "AppType_Online_Gaming                -0.129913           -0.146620   \n",
       "AppType_Streaming                     1.000000           -0.150267   \n",
       "AppType_Video_Call                   -0.150267            1.000000   \n",
       "AppType_Video_Streaming              -0.133144           -0.150267   \n",
       "AppType_VoIP_Call                    -0.131534           -0.148449   \n",
       "AppType_Voice_Call                   -0.018267           -0.020616   \n",
       "AppType_Web_Browsing                 -0.134744           -0.152072   \n",
       "\n",
       "                             AppType_Video_Streaming  AppType_VoIP_Call  \\\n",
       "Signal_Strength                            -0.237218           0.082162   \n",
       "Latency                                     0.086935          -0.043072   \n",
       "Required_Bandwidth                         -0.152861           0.008209   \n",
       "Allocated_Bandwidth                        -0.158266           0.047064   \n",
       "Resource_Allocation                        -0.178696           0.609918   \n",
       "AppType_Background_Download                -0.133144          -0.131534   \n",
       "AppType_Emergency_Service                  -0.133144          -0.131534   \n",
       "AppType_File_Download                      -0.018267          -0.018046   \n",
       "AppType_IoT_Temperature                    -0.066877          -0.066068   \n",
       "AppType_Online_Gaming                      -0.129913          -0.128342   \n",
       "AppType_Streaming                          -0.133144          -0.131534   \n",
       "AppType_Video_Call                         -0.150267          -0.148449   \n",
       "AppType_Video_Streaming                     1.000000          -0.131534   \n",
       "AppType_VoIP_Call                          -0.131534           1.000000   \n",
       "AppType_Voice_Call                         -0.018267          -0.018046   \n",
       "AppType_Web_Browsing                       -0.134744          -0.133115   \n",
       "\n",
       "                             AppType_Voice_Call  AppType_Web_Browsing  \n",
       "Signal_Strength                        0.001199             -0.344652  \n",
       "Latency                               -0.032808             -0.319680  \n",
       "Required_Bandwidth                     0.006302             -0.159778  \n",
       "Allocated_Bandwidth                    0.010983             -0.166012  \n",
       "Resource_Allocation                    0.029507             -0.206843  \n",
       "AppType_Background_Download           -0.018267             -0.134744  \n",
       "AppType_Emergency_Service             -0.018267             -0.134744  \n",
       "AppType_File_Download                 -0.002506             -0.018487  \n",
       "AppType_IoT_Temperature               -0.009176             -0.067681  \n",
       "AppType_Online_Gaming                 -0.017824             -0.131474  \n",
       "AppType_Streaming                     -0.018267             -0.134744  \n",
       "AppType_Video_Call                    -0.020616             -0.152072  \n",
       "AppType_Video_Streaming               -0.018267             -0.134744  \n",
       "AppType_VoIP_Call                     -0.018046             -0.133115  \n",
       "AppType_Voice_Call                     1.000000             -0.018487  \n",
       "AppType_Web_Browsing                  -0.018487              1.000000  "
      ]
     },
     "execution_count": 51,
     "metadata": {},
     "output_type": "execute_result"
    }
   ],
   "source": [
    "correlation_matrix"
   ]
  },
  {
   "cell_type": "code",
   "execution_count": 52,
   "id": "bb8888f6-85c3-4eaa-9a4c-58ef288d74be",
   "metadata": {},
   "outputs": [],
   "source": [
    "# Scale the data\n",
    "scaler = StandardScaler()\n",
    "scaled_df = pd.DataFrame(scaler.fit_transform(data), columns=data.columns)\n",
    "\n",
    "# Calculate the correlation matrix\n",
    "correlation_matrix = scaled_df.corr()"
   ]
  },
  {
   "cell_type": "code",
   "execution_count": 53,
   "id": "ecb097ec-a775-4d0d-bcca-c22c0efc62ea",
   "metadata": {},
   "outputs": [
    {
     "data": {
      "image/png": "[encoded data removed]",
      "text/plain": [
       "<Figure size 1400x1200 with 2 Axes>"
      ]
     },
     "metadata": {},
     "output_type": "display_data"
    }
   ],
   "source": [
    "plt.figure(figsize=(14, 12))\n",
    "sns.heatmap(correlation_matrix, annot=False, cmap='coolwarm', vmin=-1, vmax=1, fmt='.2f')\n",
    "plt.title('Correlation Heatmap')\n",
    "plt.show()"
   ]
  },
  {
   "cell_type": "code",
   "execution_count": 54,
   "id": "3fef7b99-639c-4b96-9c9f-8fbc43492c37",
   "metadata": {},
   "outputs": [],
   "source": [
    "X = data.drop(columns=['Resource_Allocation'])\n",
    "y = data['Resource_Allocation']"
   ]
  },
  {
   "cell_type": "code",
   "execution_count": 55,
   "id": "d4e74416-918c-47c5-bb31-49329cec4698",
   "metadata": {},
   "outputs": [],
   "source": [
    "from sklearn.model_selection import train_test_split\n",
    "\n",
    "X_train, X_test, y_train, y_test = train_test_split(X, y, test_size=0.2, random_state=42)"
   ]
  },
  {
   "cell_type": "markdown",
   "id": "4de6a4e4-4ded-4813-9d0e-2a8e9e04adba",
   "metadata": {},
   "source": [
    "###LOGISTIC REGRESSION"
   ]
  },
  {
   "cell_type": "code",
   "execution_count": 56,
   "id": "2878004a-a06e-4c6d-9721-f9e01df246eb",
   "metadata": {},
   "outputs": [
    {
     "name": "stderr",
     "output_type": "stream",
     "text": [
      "C:\\Users\\sulav\\AppData\\Local\\Programs\\Python\\Python311\\Lib\\site-packages\\sklearn\\linear_model\\_logistic.py:460: ConvergenceWarning: lbfgs failed to converge (status=1):\n",
      "STOP: TOTAL NO. of ITERATIONS REACHED LIMIT.\n",
      "\n",
      "Increase the number of iterations (max_iter) or scale the data as shown in:\n",
      "    https://scikit-learn.org/stable/modules/preprocessing.html\n",
      "Please also refer to the documentation for alternative solver options:\n",
      "    https://scikit-learn.org/stable/modules/linear_model.html#logistic-regression\n",
      "  n_iter_i = _check_optimize_result(\n"
     ]
    }
   ],
   "source": [
    "from sklearn.metrics import accuracy_score\n",
    "from sklearn.linear_model import LogisticRegression\n",
    "\n",
    "model = LogisticRegression()\n",
    "model.fit(X_train, y_train)\n",
    "y_pred = model.predict(X_test)\n",
    "accuracy = accuracy_score(y_test, y_pred)"
   ]
  },
  {
   "cell_type": "markdown",
   "id": "4900d596-3d31-46e2-9351-5728dcf20272",
   "metadata": {},
   "source": [
    "###DECISIONTREECLASSIFIER"
   ]
  },
  {
   "cell_type": "code",
   "execution_count": 57,
   "id": "d204e740-68b9-4691-841b-5eba9e14ed30",
   "metadata": {},
   "outputs": [
    {
     "name": "stdout",
     "output_type": "stream",
     "text": [
      "Accuracy: 0.91\n"
     ]
    }
   ],
   "source": [
    "from sklearn.tree import DecisionTreeClassifier\n",
    "model = DecisionTreeClassifier()\n",
    "model.fit(X_train, y_train)\n",
    "y_pred = model.predict(X_test)\n",
    "accuracy = accuracy_score(y_test, y_pred)\n",
    "print(f'Accuracy: {accuracy:.2f}')"
   ]
  },
  {
   "cell_type": "markdown",
   "id": "cf9179bf-c1f5-410f-bfb8-958a2a0cdbb2",
   "metadata": {},
   "source": [
    "###RANDOMFORESTCLASSIFIER"
   ]
  },
  {
   "cell_type": "code",
   "execution_count": 58,
   "id": "8b78bd1f-3696-4b40-ba07-ee086ae282ff",
   "metadata": {},
   "outputs": [
    {
     "name": "stdout",
     "output_type": "stream",
     "text": [
      "Accuracy: 0.91\n"
     ]
    }
   ],
   "source": [
    "from sklearn.ensemble import RandomForestClassifier\n",
    "model = RandomForestClassifier()\n",
    "model.fit(X_train, y_train)\n",
    "y_pred = model.predict(X_test)\n",
    "accuracy = accuracy_score(y_test, y_pred)\n",
    "print(f'Accuracy: {accuracy:.2f}')"
   ]
  },
  {
   "cell_type": "markdown",
   "id": "7e3dbde8-d36d-4dc3-8ee5-b0862bf1873c",
   "metadata": {},
   "source": [
    "###SVC"
   ]
  },
  {
   "cell_type": "code",
   "execution_count": 59,
   "id": "cb4495da-2dca-4c35-9105-f06c0d135de0",
   "metadata": {},
   "outputs": [
    {
     "name": "stdout",
     "output_type": "stream",
     "text": [
      "Accuracy: 0.62\n"
     ]
    }
   ],
   "source": [
    "from sklearn.svm import SVC\n",
    "model = SVC()\n",
    "model.fit(X_train, y_train)\n",
    "y_pred = model.predict(X_test)\n",
    "accuracy = accuracy_score(y_test, y_pred)\n",
    "print(f'Accuracy: {accuracy:.2f}')"
   ]
  },
  {
   "cell_type": "markdown",
   "id": "2d0be7b9-d42d-4609-bee5-d0d2ec369576",
   "metadata": {},
   "source": [
    "###KNeighborsClassifier"
   ]
  },
  {
   "cell_type": "code",
   "execution_count": 60,
   "id": "e6dbae0f-9fc1-4e39-95bc-f5f918ce9f03",
   "metadata": {},
   "outputs": [
    {
     "name": "stdout",
     "output_type": "stream",
     "text": [
      "Accuracy: 0.91\n"
     ]
    }
   ],
   "source": [
    "from sklearn.neighbors import KNeighborsClassifier\n",
    "knn_classifier = KNeighborsClassifier(n_neighbors=5)\n",
    "knn_classifier.fit(X_train, y_train)\n",
    "y_pred = knn_classifier.predict(X_test)\n",
    "accuracy = accuracy_score(y_test, y_pred)\n",
    "print(f'Accuracy: {accuracy:.2f}')"
   ]
  },
  {
   "cell_type": "markdown",
   "id": "cf5fc17c-581d-4c9b-ad1c-b277a1e7600f",
   "metadata": {},
   "source": [
    "###NAIVE BAYES"
   ]
  },
  {
   "cell_type": "code",
   "execution_count": 61,
   "id": "8da01a45-f52a-44ec-aa8f-bab682c7d381",
   "metadata": {},
   "outputs": [
    {
     "name": "stdout",
     "output_type": "stream",
     "text": [
      "Accuracy: 0.84\n"
     ]
    }
   ],
   "source": [
    "from sklearn.naive_bayes import GaussianNB\n",
    "naive_bayes_classifier = GaussianNB()\n",
    "naive_bayes_classifier.fit(X_train, y_train)\n",
    "y_pred = naive_bayes_classifier.predict(X_test)\n",
    "accuracy = accuracy_score(y_test, y_pred)\n",
    "print(f'Accuracy: {accuracy:.2f}')"
   ]
  },
  {
   "cell_type": "markdown",
   "id": "07aee75b-6c78-4972-b970-7ccf5a886ac2",
   "metadata": {},
   "source": [
    "###HYPERPARAMETER TUNING"
   ]
  },
  {
   "cell_type": "code",
   "execution_count": 62,
   "id": "59980c4b-1752-4b52-a1a1-1e473886a395",
   "metadata": {},
   "outputs": [
    {
     "name": "stderr",
     "output_type": "stream",
     "text": [
      "C:\\Users\\sulav\\AppData\\Local\\Programs\\Python\\Python311\\Lib\\site-packages\\sklearn\\model_selection\\_split.py:737: UserWarning: The least populated class in y has only 1 members, which is less than n_splits=5.\n",
      "  warnings.warn(\n"
     ]
    },
    {
     "name": "stdout",
     "output_type": "stream",
     "text": [
      "Best Model Accuracy: 0.94\n"
     ]
    }
   ],
   "source": [
    "from sklearn.model_selection import GridSearchCV\n",
    "model = RandomForestClassifier(random_state=42)\n",
    "param_grid = {\n",
    "    'n_estimators': [10, 50, 100],\n",
    "    'max_depth': [None, 10, 20],\n",
    "    'min_samples_split': [2, 5, 10],\n",
    "    'min_samples_leaf': [1, 2, 4]\n",
    "}\n",
    "\n",
    "# Perform grid search with cross-validation\n",
    "grid_search = GridSearchCV(estimator=model, param_grid=param_grid, cv=5, scoring='accuracy')\n",
    "grid_search.fit(X_train, y_train)\n",
    "\n",
    "# Get the best hyperparameters\n",
    "best_params = grid_search.best_params_\n",
    "\n",
    "# Create a new model with the best hyperparameters and fit it\n",
    "best_model = RandomForestClassifier(**best_params, random_state=42)\n",
    "best_model.fit(X_train, y_train)\n",
    "\n",
    "# Make predictions on the test data\n",
    "y_pred = best_model.predict(X_test)\n",
    "\n",
    "# Calculate accuracy\n",
    "accuracy = accuracy_score(y_test, y_pred)\n",
    "print(f'Best Model Accuracy: {accuracy:.2f}')"
   ]
  },
  {
   "cell_type": "markdown",
   "id": "6ccdd8e1-79f0-4db5-8061-4a352372f6cb",
   "metadata": {},
   "source": [
    "###CLASSIFICATION_REPORT###"
   ]
  },
  {
   "cell_type": "code",
   "execution_count": 63,
   "id": "5bb75d2e-eab2-4a6d-b968-94a8c27a3fc2",
   "metadata": {},
   "outputs": [
    {
     "data": {
      "image/png": "[encoded data removed]",
      "text/plain": [
       "<Figure size 640x480 with 2 Axes>"
      ]
     },
     "metadata": {},
     "output_type": "display_data"
    }
   ],
   "source": [
    "#plotting confusion matrix\n",
    "from sklearn.metrics import confusion_matrix, ConfusionMatrixDisplay, classification_report\n",
    "best_model.fit(X_train, y_train)\n",
    "cm = confusion_matrix(y_test, y_pred)\n",
    "disp_log = ConfusionMatrixDisplay(confusion_matrix=cm)\n",
    "disp_log = disp_log.plot(cmap=plt.cm.Blues,values_format='g')\n",
    "plt.title(\"5Gpredictions\", pad= 15, fontsize= 15, fontweight= \"bold\")\n",
    "plt.show()"
   ]
  },
  {
   "cell_type": "code",
   "execution_count": 64,
   "id": "e350cad2-f201-48ef-affa-30c64e98a875",
   "metadata": {},
   "outputs": [
    {
     "name": "stdout",
     "output_type": "stream",
     "text": [
      "[[ 9  0  0  0  0  0]\n",
      " [ 1 29  0  1  1  0]\n",
      " [ 0  1  9  0  0  0]\n",
      " [ 0  0  1  5  0  0]\n",
      " [ 0  0  0  0  9  0]\n",
      " [ 0  0  0  0  0 14]]\n"
     ]
    }
   ],
   "source": [
    "print(cm)"
   ]
  },
  {
   "cell_type": "code",
   "execution_count": 65,
   "id": "f5b1ed5f-4a3a-468f-8229-ae76b4725db5",
   "metadata": {},
   "outputs": [
    {
     "name": "stdout",
     "output_type": "stream",
     "text": [
      "              precision    recall  f1-score   support\n",
      "\n",
      "     class A       0.90      1.00      0.95         9\n",
      "     class B       0.97      0.91      0.94        32\n",
      "     class C       0.90      0.90      0.90        10\n",
      "     class D       0.83      0.83      0.83         6\n",
      "     class E       0.90      1.00      0.95         9\n",
      "     class F       1.00      1.00      1.00        14\n",
      "\n",
      "    accuracy                           0.94        80\n",
      "   macro avg       0.92      0.94      0.93        80\n",
      "weighted avg       0.94      0.94      0.94        80\n",
      "\n"
     ]
    }
   ],
   "source": [
    "from sklearn.metrics import classification_report\n",
    "target_names = ['class A', 'class B', 'class C', 'class D', 'class E', 'class F' ]\n",
    "report = classification_report(y_test, y_pred, target_names = target_names)\n",
    "\n",
    "print(report)"
   ]
  },
  {
   "cell_type": "code",
   "execution_count": 66,
   "id": "c4134f16-af13-473e-817b-b8164a3de55c",
   "metadata": {},
   "outputs": [
    {
     "name": "stdout",
     "output_type": "stream",
     "text": [
      "Incorrect predictions:     Signal_Strength  Latency  Required_Bandwidth  Allocated_Bandwidth  \\\n",
      "15            -84.0     38.0                 4.5                  5.0   \n",
      "0             -75.0     30.0                10.0                 15.0   \n",
      "30            -78.0     30.0                10.2                 12.2   \n",
      "31            -79.0     24.0                 2.3                  2.6   \n",
      "5             -90.0     50.0               500.0                550.0   \n",
      "\n",
      "    AppType_Background_Download  AppType_Emergency_Service  \\\n",
      "15                            0                          0   \n",
      "0                             0                          0   \n",
      "30                            0                          0   \n",
      "31                            0                          0   \n",
      "5                             1                          0   \n",
      "\n",
      "    AppType_File_Download  AppType_IoT_Temperature  AppType_Online_Gaming  \\\n",
      "15                      0                        0                      0   \n",
      "0                       0                        0                      0   \n",
      "30                      0                        0                      0   \n",
      "31                      0                        0                      1   \n",
      "5                       0                        0                      0   \n",
      "\n",
      "    AppType_Streaming  AppType_Video_Call  AppType_Video_Streaming  \\\n",
      "15                  1                   0                        0   \n",
      "0                   0                   1                        0   \n",
      "30                  0                   1                        0   \n",
      "31                  0                   0                        0   \n",
      "5                   0                   0                        0   \n",
      "\n",
      "    AppType_VoIP_Call  AppType_Voice_Call  AppType_Web_Browsing  \n",
      "15                  0                   0                     0  \n",
      "0                   0                   0                     0  \n",
      "30                  0                   0                     0  \n",
      "31                  0                   0                     0  \n",
      "5                   0                   0                     0  \n"
     ]
    }
   ],
   "source": [
    "incorrect_predictions = X_test[y_test != y_pred]\n",
    "print(\"Incorrect predictions:\", incorrect_predictions)"
   ]
  },
  {
   "cell_type": "code",
   "execution_count": 68,
   "id": "f16178a8-c717-4529-ad6d-01e6c3242cbe",
   "metadata": {},
   "outputs": [
    {
     "name": "stdout",
     "output_type": "stream",
     "text": [
      "[90 60 90 80 90 75 90 75 80 60 70 90 70 70 90 70 70 60 70 90 60 70 70 70\n",
      " 70 75 75 90 70 85 85 90 70 60 60 70 90 70 70 75 70 85 70 85 70 70 85 70\n",
      " 70 70 70 90 80 70 70 70 70 75 75 70 85 70 70 75 80 80 60 75 80 90 60 85\n",
      " 70 85 75 70 85 90 60 90]\n"
     ]
    }
   ],
   "source": [
    "my_array = np.array(y_test)\n",
    "print(my_array.astype(int))"
   ]
  },
  {
   "cell_type": "code",
   "execution_count": 74,
   "id": "5c12c09d-6963-4c61-b2a6-b5ca91d4d939",
   "metadata": {},
   "outputs": [
    {
     "name": "stdout",
     "output_type": "stream",
     "text": [
      "MAE: 0.56\n",
      "MSE: 5.94\n",
      "RMSE: 2.44\n",
      "R² Score: 0.99\n"
     ]
    }
   ],
   "source": [
    "from sklearn.metrics import mean_absolute_error, mean_squared_error, r2_score\n",
    "\n",
    "# Calculating MAE, MSE, RMSE, and R²\n",
    "mae = mean_absolute_error(y_test, y_pred)\n",
    "mse = mean_squared_error(y_test, y_pred)\n",
    "rmse = np.sqrt(mse)\n",
    "r2 = r2_score(actual_values, predicted_values)\n",
    "\n",
    "print(f\"MAE: {mae:.2f}\")\n",
    "print(f\"MSE: {mse:.2f}\")\n",
    "print(f\"RMSE: {rmse:.2f}\")\n",
    "print(f\"R² Score: {r2:.2f}\")"
   ]
  },
  {
   "cell_type": "code",
   "execution_count": null,
   "id": "0b030189-c2cc-45c5-a1bd-3672a582289b",
   "metadata": {},
   "outputs": [],
   "source": []
  }
 ],
 "metadata": {
  "kernelspec": {
   "display_name": "Python 3 (ipykernel)",
   "language": "python",
   "name": "python3"
  },
  "language_info": {
   "codemirror_mode": {
    "name": "ipython",
    "version": 3
   },
   "file_extension": ".py",
   "mimetype": "text/x-python",
   "name": "python",
   "nbconvert_exporter": "python",
   "pygments_lexer": "ipython3",
   "version": "3.11.5"
  }
 },
 "nbformat": 4,
 "nbformat_minor": 5
}
